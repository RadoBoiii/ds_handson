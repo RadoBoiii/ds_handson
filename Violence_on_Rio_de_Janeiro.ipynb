{
  "nbformat": 4,
  "nbformat_minor": 0,
  "metadata": {
    "colab": {
      "name": "Violence_on_Rio_de_Janeiro.ipynb",
      "provenance": [],
      "collapsed_sections": [
        "-eFQZydM9O9J",
        "0zxQHhIUDF_2",
        "7vh4at0l90nr",
        "848dhkT-c6_Y",
        "Tu0TyNBFdCXC",
        "0zRFs2M5AROg",
        "eMFGmyEgAeD1",
        "yy-ws_vGDliw",
        "7QVA2EJZD9zT",
        "iiqNArOAC1V-",
        "BIYipH13DDf1",
        "7WK0NBQZASKC",
        "dHpmaj-IDSaO",
        "KQ8JC-4rDTDx",
        "LCsiXvM3BcsO"
      ],
      "toc_visible": true,
      "include_colab_link": true
    },
    "kernelspec": {
      "name": "python3",
      "display_name": "Python 3"
    }
  },
  "cells": [
    {
      "cell_type": "markdown",
      "metadata": {
        "id": "view-in-github",
        "colab_type": "text"
      },
      "source": [
        "<a href=\"https://colab.research.google.com/github/mmcuri/ds_handson/blob/master/Violence_on_Rio_de_Janeiro.ipynb\" target=\"_parent\"><img src=\"https://colab.research.google.com/assets/colab-badge.svg\" alt=\"Open In Colab\"/></a>"
      ]
    },
    {
      "cell_type": "markdown",
      "metadata": {
        "id": "kLI0gJtzDGuQ",
        "colab_type": "text"
      },
      "source": [
        "# Violence on Rio de Janeiro City\n",
        "\n",
        "Rio de Janeiro, Brazil’s second largest city, well known for its natural settings, Carnival, samba, bossa nova and iconic beaches. Rio is also home to a travelers’ bucket-list mainstay.\n",
        "\n",
        "Amid all the city glamour, Rio de Janeiro is one of Brazil's most violent states and vast areas are under the control of criminals, many of them linked to powerful drug-trafficking gangs. \n",
        "\n",
        "On 28 October 2018, Wilson Witzel was elected Governor of the State of Rio de Janeiro with a four-year term beginning in January 2019. During his campaing the main promise was to implement hardline measures to tackle violence.\n",
        "\n",
        "Since he took office, the state observed the rise on policies that include the use of heavily armed agents and helicopter-borne snipers to fight criminals in densely populated areas.\n",
        "\n",
        "The purpose of this analysis is to identify the positive and negative impacts of the implementation of security hardline measures for the population of Rio de Janeiro.\n",
        "\n",
        "![alt text](https://raw.githubusercontent.com/mmcuri/ds_handson/master/img/rio-de-janeiro-night-panorama-1400x500.jpg)"
      ]
    },
    {
      "cell_type": "markdown",
      "metadata": {
        "id": "0zxQHhIUDF_2",
        "colab_type": "text"
      },
      "source": [
        "## The Data\n",
        "\n",
        "Rio de Janeiro state government publishes on a monthly basis the time series of security statistics on the region throughout the portal [ISP Dados Abertos](http://www.ispdados.rj.gov.br). The complete dataset data can be downloaded [here](http://www.ispdados.rj.gov.br/estatistica.html).\n",
        "\n",
        "\n",
        "These official records started to be tracked and maintained since 1991, after that different other variables started to be collected. We will notice many blank spaces' values which will require our attention and proper handling.\n"
      ]
    },
    {
      "cell_type": "markdown",
      "metadata": {
        "id": "_r78AZ2FU6my",
        "colab_type": "text"
      },
      "source": [
        "### *Data Dictionary*\n",
        "\n",
        "We are going to focus on the variables which will be used in this analysis.\n",
        "The complete [data dictionary](http://www.ispdados.rj.gov.br/Arquivos/DicionarioVariaveisDOMensalEstadoDesde1991.xlsx) (in Portuguese) can be found on [ISP Dados Abertos](http://www.ispdados.rj.gov.br) website.\n",
        "*   `ano` - Occurrence reporting year\n",
        "*   `mes` - Occurrence reporting month\n",
        "*   `hom_por_interv_policial`- Death by **state agent intervention**\n",
        "*   `hom_doloso`: Total of registered **murders** per month\n",
        "*   `total_roubos`: Total of registered **threats** per month\n",
        "*   `total_furtos`: Total of registered **robberies** per month\n",
        "\n",
        "\n",
        "\n",
        "\n"
      ]
    },
    {
      "cell_type": "markdown",
      "metadata": {
        "id": "7vh4at0l90nr",
        "colab_type": "text"
      },
      "source": [
        "### *Importing the Data and Libraries*\n",
        "\n",
        "For this analysis we will be using Pandas, Seaborn, Numpy and Matplotbib libraries."
      ]
    },
    {
      "cell_type": "code",
      "metadata": {
        "id": "CYLNme_OCX_R",
        "colab_type": "code",
        "colab": {}
      },
      "source": [
        "import pandas as pd\n",
        "import seaborn as sns\n",
        "import numpy as np\n",
        "import matplotlib.pyplot as plt\n",
        "import matplotlib.dates as mdates\n",
        "%matplotlib inline"
      ],
      "execution_count": 66,
      "outputs": []
    },
    {
      "cell_type": "code",
      "metadata": {
        "id": "twGq4N6rkYQ6",
        "colab_type": "code",
        "colab": {}
      },
      "source": [
        "df = pd.read_csv(\"https://raw.githubusercontent.com/mmcuri/ds_handson/master/data/DOMensalEstadoDesde1991_2020-05.csv\", sep=\";\")"
      ],
      "execution_count": 67,
      "outputs": []
    },
    {
      "cell_type": "markdown",
      "metadata": {
        "id": "qb5By2nIMS6m",
        "colab_type": "text"
      },
      "source": [
        "## Getting Started\n",
        "\n",
        "Before jumping into the exploratory data analysis, let's answer a few questions to familiarize ourselves with the *dataset* we will be studying and identify problems that may require proper handling."
      ]
    },
    {
      "cell_type": "markdown",
      "metadata": {
        "id": "848dhkT-c6_Y",
        "colab_type": "text"
      },
      "source": [
        "### *Dataframe size and info*"
      ]
    },
    {
      "cell_type": "code",
      "metadata": {
        "id": "3K_NmBiccdN1",
        "colab_type": "code",
        "colab": {
          "base_uri": "https://localhost:8080/",
          "height": 87
        },
        "outputId": "61ab425e-1dc2-411f-f614-044a33bcdb77"
      },
      "source": [
        "print('Dataset dimensions',\n",
        "      '\\n# Attributes: ', df.shape[1], \n",
        "      '\\n# Entries: ', df.shape[0],'\\n')"
      ],
      "execution_count": 68,
      "outputs": [
        {
          "output_type": "stream",
          "text": [
            "Dataset dimensions \n",
            "# Attributes:  58 \n",
            "# Entries:  353 \n",
            "\n"
          ],
          "name": "stdout"
        }
      ]
    },
    {
      "cell_type": "markdown",
      "metadata": {
        "id": "Tu0TyNBFdCXC",
        "colab_type": "text"
      },
      "source": [
        "### *What are the attributes and their data types?*\n",
        "\n",
        "Many attributes got imported by Pandas as `object` data type. The reason for that is because some variables that have a bunch of not populated entries were imported as `string`, with a blank space."
      ]
    },
    {
      "cell_type": "code",
      "metadata": {
        "id": "ZhcF9dZadUpQ",
        "colab_type": "code",
        "colab": {
          "base_uri": "https://localhost:8080/",
          "height": 1000
        },
        "outputId": "5171b46b-2293-40d5-acf4-abdace639bbd"
      },
      "source": [
        "df.dtypes"
      ],
      "execution_count": 69,
      "outputs": [
        {
          "output_type": "execute_result",
          "data": {
            "text/plain": [
              "ano                            int64\n",
              "mes                            int64\n",
              "hom_doloso                     int64\n",
              "lesao_corp_morte              object\n",
              "latrocinio                     int64\n",
              "hom_por_interv_policial       object\n",
              "letalidade_violenta            int64\n",
              "tentat_hom                     int64\n",
              "lesao_corp_dolosa              int64\n",
              "estupro                       object\n",
              "hom_culposo                   object\n",
              "lesao_corp_culposa            object\n",
              "roubo_comercio                 int64\n",
              "roubo_residencia               int64\n",
              "roubo_veiculo                  int64\n",
              "roubo_carga                    int64\n",
              "roubo_transeunte               int64\n",
              "roubo_em_coletivo              int64\n",
              "roubo_banco                    int64\n",
              "roubo_cx_eletronico           object\n",
              "roubo_celular                 object\n",
              "roubo_conducao_saque          object\n",
              "roubo_apos_saque              object\n",
              "roubo_bicicleta               object\n",
              "outros_roubos                  int64\n",
              "total_roubos                   int64\n",
              "furto_veiculos                 int64\n",
              "furto_transeunte               int64\n",
              "furto_coletivo                object\n",
              "furto_celular                 object\n",
              "furto_bicicleta               object\n",
              "outros_furtos                  int64\n",
              "total_furtos                   int64\n",
              "sequestro                     object\n",
              "extorsao                      object\n",
              "sequestro_relampago           object\n",
              "estelionato                   object\n",
              "apreensao_drogas               int64\n",
              "posse_drogas                  object\n",
              "trafico_drogas                object\n",
              "apreensao_drogas_sem_autor    object\n",
              "recuperacao_veiculos           int64\n",
              "apf                           object\n",
              "aaapai                        object\n",
              "cmp                           object\n",
              "cmba                          object\n",
              "ameaca                        object\n",
              "pessoas_desaparecidas         object\n",
              "encontro_cadaver               int64\n",
              "encontro_ossada               object\n",
              "pol_militares_mortos_serv     object\n",
              "pol_civis_mortos_serv         object\n",
              "indicador_cvli                object\n",
              "indicador_roubo_rua            int64\n",
              "indicador_roubo_veic           int64\n",
              "indicador_roubo_carga          int64\n",
              "registro_ocorrencias          object\n",
              "fase                           int64\n",
              "dtype: object"
            ]
          },
          "metadata": {
            "tags": []
          },
          "execution_count": 69
        }
      ]
    },
    {
      "cell_type": "markdown",
      "metadata": {
        "id": "0zRFs2M5AROg",
        "colab_type": "text"
      },
      "source": [
        "### *Showing up some rows*\n",
        "\n",
        "By displaying first entries of the dataset we can notice that it the `null` values got imported as *blank spaces*. This can hinder the data analysis and has to be treated."
      ]
    },
    {
      "cell_type": "code",
      "metadata": {
        "id": "Iv-biBVSALAe",
        "colab_type": "code",
        "colab": {
          "base_uri": "https://localhost:8080/",
          "height": 217
        },
        "outputId": "4edd9e4e-440e-43d1-8228-5596aac80bf8"
      },
      "source": [
        "df.head()"
      ],
      "execution_count": 70,
      "outputs": [
        {
          "output_type": "execute_result",
          "data": {
            "text/html": [
              "<div>\n",
              "<style scoped>\n",
              "    .dataframe tbody tr th:only-of-type {\n",
              "        vertical-align: middle;\n",
              "    }\n",
              "\n",
              "    .dataframe tbody tr th {\n",
              "        vertical-align: top;\n",
              "    }\n",
              "\n",
              "    .dataframe thead th {\n",
              "        text-align: right;\n",
              "    }\n",
              "</style>\n",
              "<table border=\"1\" class=\"dataframe\">\n",
              "  <thead>\n",
              "    <tr style=\"text-align: right;\">\n",
              "      <th></th>\n",
              "      <th>ano</th>\n",
              "      <th>mes</th>\n",
              "      <th>hom_doloso</th>\n",
              "      <th>lesao_corp_morte</th>\n",
              "      <th>latrocinio</th>\n",
              "      <th>hom_por_interv_policial</th>\n",
              "      <th>letalidade_violenta</th>\n",
              "      <th>tentat_hom</th>\n",
              "      <th>lesao_corp_dolosa</th>\n",
              "      <th>estupro</th>\n",
              "      <th>hom_culposo</th>\n",
              "      <th>lesao_corp_culposa</th>\n",
              "      <th>roubo_comercio</th>\n",
              "      <th>roubo_residencia</th>\n",
              "      <th>roubo_veiculo</th>\n",
              "      <th>roubo_carga</th>\n",
              "      <th>roubo_transeunte</th>\n",
              "      <th>roubo_em_coletivo</th>\n",
              "      <th>roubo_banco</th>\n",
              "      <th>roubo_cx_eletronico</th>\n",
              "      <th>roubo_celular</th>\n",
              "      <th>roubo_conducao_saque</th>\n",
              "      <th>roubo_apos_saque</th>\n",
              "      <th>roubo_bicicleta</th>\n",
              "      <th>outros_roubos</th>\n",
              "      <th>total_roubos</th>\n",
              "      <th>furto_veiculos</th>\n",
              "      <th>furto_transeunte</th>\n",
              "      <th>furto_coletivo</th>\n",
              "      <th>furto_celular</th>\n",
              "      <th>furto_bicicleta</th>\n",
              "      <th>outros_furtos</th>\n",
              "      <th>total_furtos</th>\n",
              "      <th>sequestro</th>\n",
              "      <th>extorsao</th>\n",
              "      <th>sequestro_relampago</th>\n",
              "      <th>estelionato</th>\n",
              "      <th>apreensao_drogas</th>\n",
              "      <th>posse_drogas</th>\n",
              "      <th>trafico_drogas</th>\n",
              "      <th>apreensao_drogas_sem_autor</th>\n",
              "      <th>recuperacao_veiculos</th>\n",
              "      <th>apf</th>\n",
              "      <th>aaapai</th>\n",
              "      <th>cmp</th>\n",
              "      <th>cmba</th>\n",
              "      <th>ameaca</th>\n",
              "      <th>pessoas_desaparecidas</th>\n",
              "      <th>encontro_cadaver</th>\n",
              "      <th>encontro_ossada</th>\n",
              "      <th>pol_militares_mortos_serv</th>\n",
              "      <th>pol_civis_mortos_serv</th>\n",
              "      <th>indicador_cvli</th>\n",
              "      <th>indicador_roubo_rua</th>\n",
              "      <th>indicador_roubo_veic</th>\n",
              "      <th>indicador_roubo_carga</th>\n",
              "      <th>registro_ocorrencias</th>\n",
              "      <th>fase</th>\n",
              "    </tr>\n",
              "  </thead>\n",
              "  <tbody>\n",
              "    <tr>\n",
              "      <th>0</th>\n",
              "      <td>1991</td>\n",
              "      <td>1</td>\n",
              "      <td>657</td>\n",
              "      <td></td>\n",
              "      <td>15</td>\n",
              "      <td></td>\n",
              "      <td>672</td>\n",
              "      <td>162</td>\n",
              "      <td>3051</td>\n",
              "      <td></td>\n",
              "      <td></td>\n",
              "      <td></td>\n",
              "      <td>350</td>\n",
              "      <td>188</td>\n",
              "      <td>1174</td>\n",
              "      <td>63</td>\n",
              "      <td>967</td>\n",
              "      <td>381</td>\n",
              "      <td>37</td>\n",
              "      <td></td>\n",
              "      <td></td>\n",
              "      <td></td>\n",
              "      <td></td>\n",
              "      <td></td>\n",
              "      <td>158</td>\n",
              "      <td>3318</td>\n",
              "      <td>2009</td>\n",
              "      <td>1147</td>\n",
              "      <td></td>\n",
              "      <td></td>\n",
              "      <td></td>\n",
              "      <td>3561</td>\n",
              "      <td>6717</td>\n",
              "      <td></td>\n",
              "      <td></td>\n",
              "      <td></td>\n",
              "      <td></td>\n",
              "      <td>133</td>\n",
              "      <td></td>\n",
              "      <td></td>\n",
              "      <td></td>\n",
              "      <td>872</td>\n",
              "      <td></td>\n",
              "      <td></td>\n",
              "      <td></td>\n",
              "      <td></td>\n",
              "      <td></td>\n",
              "      <td></td>\n",
              "      <td>217</td>\n",
              "      <td></td>\n",
              "      <td></td>\n",
              "      <td></td>\n",
              "      <td></td>\n",
              "      <td>1348</td>\n",
              "      <td>1174</td>\n",
              "      <td>63</td>\n",
              "      <td></td>\n",
              "      <td>3</td>\n",
              "    </tr>\n",
              "    <tr>\n",
              "      <th>1</th>\n",
              "      <td>1991</td>\n",
              "      <td>2</td>\n",
              "      <td>732</td>\n",
              "      <td></td>\n",
              "      <td>17</td>\n",
              "      <td></td>\n",
              "      <td>749</td>\n",
              "      <td>175</td>\n",
              "      <td>3421</td>\n",
              "      <td></td>\n",
              "      <td></td>\n",
              "      <td></td>\n",
              "      <td>357</td>\n",
              "      <td>171</td>\n",
              "      <td>1097</td>\n",
              "      <td>64</td>\n",
              "      <td>963</td>\n",
              "      <td>432</td>\n",
              "      <td>35</td>\n",
              "      <td></td>\n",
              "      <td></td>\n",
              "      <td></td>\n",
              "      <td></td>\n",
              "      <td></td>\n",
              "      <td>142</td>\n",
              "      <td>3261</td>\n",
              "      <td>1850</td>\n",
              "      <td>1066</td>\n",
              "      <td></td>\n",
              "      <td></td>\n",
              "      <td></td>\n",
              "      <td>3309</td>\n",
              "      <td>6225</td>\n",
              "      <td></td>\n",
              "      <td></td>\n",
              "      <td></td>\n",
              "      <td></td>\n",
              "      <td>127</td>\n",
              "      <td></td>\n",
              "      <td></td>\n",
              "      <td></td>\n",
              "      <td>751</td>\n",
              "      <td></td>\n",
              "      <td></td>\n",
              "      <td></td>\n",
              "      <td></td>\n",
              "      <td></td>\n",
              "      <td></td>\n",
              "      <td>209</td>\n",
              "      <td></td>\n",
              "      <td></td>\n",
              "      <td></td>\n",
              "      <td></td>\n",
              "      <td>1395</td>\n",
              "      <td>1097</td>\n",
              "      <td>64</td>\n",
              "      <td></td>\n",
              "      <td>3</td>\n",
              "    </tr>\n",
              "    <tr>\n",
              "      <th>2</th>\n",
              "      <td>1991</td>\n",
              "      <td>3</td>\n",
              "      <td>713</td>\n",
              "      <td></td>\n",
              "      <td>25</td>\n",
              "      <td></td>\n",
              "      <td>738</td>\n",
              "      <td>216</td>\n",
              "      <td>3613</td>\n",
              "      <td></td>\n",
              "      <td></td>\n",
              "      <td></td>\n",
              "      <td>443</td>\n",
              "      <td>191</td>\n",
              "      <td>1265</td>\n",
              "      <td>71</td>\n",
              "      <td>963</td>\n",
              "      <td>422</td>\n",
              "      <td>43</td>\n",
              "      <td></td>\n",
              "      <td></td>\n",
              "      <td></td>\n",
              "      <td></td>\n",
              "      <td></td>\n",
              "      <td>131</td>\n",
              "      <td>3529</td>\n",
              "      <td>2084</td>\n",
              "      <td>1062</td>\n",
              "      <td></td>\n",
              "      <td></td>\n",
              "      <td></td>\n",
              "      <td>3573</td>\n",
              "      <td>6719</td>\n",
              "      <td></td>\n",
              "      <td></td>\n",
              "      <td></td>\n",
              "      <td></td>\n",
              "      <td>80</td>\n",
              "      <td></td>\n",
              "      <td></td>\n",
              "      <td></td>\n",
              "      <td>789</td>\n",
              "      <td></td>\n",
              "      <td></td>\n",
              "      <td></td>\n",
              "      <td></td>\n",
              "      <td></td>\n",
              "      <td></td>\n",
              "      <td>188</td>\n",
              "      <td></td>\n",
              "      <td></td>\n",
              "      <td></td>\n",
              "      <td></td>\n",
              "      <td>1385</td>\n",
              "      <td>1265</td>\n",
              "      <td>71</td>\n",
              "      <td></td>\n",
              "      <td>3</td>\n",
              "    </tr>\n",
              "    <tr>\n",
              "      <th>3</th>\n",
              "      <td>1991</td>\n",
              "      <td>4</td>\n",
              "      <td>634</td>\n",
              "      <td></td>\n",
              "      <td>20</td>\n",
              "      <td></td>\n",
              "      <td>654</td>\n",
              "      <td>200</td>\n",
              "      <td>3211</td>\n",
              "      <td></td>\n",
              "      <td></td>\n",
              "      <td></td>\n",
              "      <td>425</td>\n",
              "      <td>199</td>\n",
              "      <td>1415</td>\n",
              "      <td>81</td>\n",
              "      <td>1186</td>\n",
              "      <td>354</td>\n",
              "      <td>36</td>\n",
              "      <td></td>\n",
              "      <td></td>\n",
              "      <td></td>\n",
              "      <td></td>\n",
              "      <td></td>\n",
              "      <td>112</td>\n",
              "      <td>3808</td>\n",
              "      <td>2085</td>\n",
              "      <td>1195</td>\n",
              "      <td></td>\n",
              "      <td></td>\n",
              "      <td></td>\n",
              "      <td>3290</td>\n",
              "      <td>6570</td>\n",
              "      <td></td>\n",
              "      <td></td>\n",
              "      <td></td>\n",
              "      <td></td>\n",
              "      <td>133</td>\n",
              "      <td></td>\n",
              "      <td></td>\n",
              "      <td></td>\n",
              "      <td>787</td>\n",
              "      <td></td>\n",
              "      <td></td>\n",
              "      <td></td>\n",
              "      <td></td>\n",
              "      <td></td>\n",
              "      <td></td>\n",
              "      <td>140</td>\n",
              "      <td></td>\n",
              "      <td></td>\n",
              "      <td></td>\n",
              "      <td></td>\n",
              "      <td>1540</td>\n",
              "      <td>1415</td>\n",
              "      <td>81</td>\n",
              "      <td></td>\n",
              "      <td>3</td>\n",
              "    </tr>\n",
              "    <tr>\n",
              "      <th>4</th>\n",
              "      <td>1991</td>\n",
              "      <td>5</td>\n",
              "      <td>650</td>\n",
              "      <td></td>\n",
              "      <td>20</td>\n",
              "      <td></td>\n",
              "      <td>670</td>\n",
              "      <td>146</td>\n",
              "      <td>3051</td>\n",
              "      <td></td>\n",
              "      <td></td>\n",
              "      <td></td>\n",
              "      <td>553</td>\n",
              "      <td>231</td>\n",
              "      <td>1449</td>\n",
              "      <td>82</td>\n",
              "      <td>931</td>\n",
              "      <td>335</td>\n",
              "      <td>27</td>\n",
              "      <td></td>\n",
              "      <td></td>\n",
              "      <td></td>\n",
              "      <td></td>\n",
              "      <td></td>\n",
              "      <td>147</td>\n",
              "      <td>3755</td>\n",
              "      <td>2185</td>\n",
              "      <td>723</td>\n",
              "      <td></td>\n",
              "      <td></td>\n",
              "      <td></td>\n",
              "      <td>3546</td>\n",
              "      <td>6454</td>\n",
              "      <td></td>\n",
              "      <td></td>\n",
              "      <td></td>\n",
              "      <td></td>\n",
              "      <td>163</td>\n",
              "      <td></td>\n",
              "      <td></td>\n",
              "      <td></td>\n",
              "      <td>845</td>\n",
              "      <td></td>\n",
              "      <td></td>\n",
              "      <td></td>\n",
              "      <td></td>\n",
              "      <td></td>\n",
              "      <td></td>\n",
              "      <td>78</td>\n",
              "      <td></td>\n",
              "      <td></td>\n",
              "      <td></td>\n",
              "      <td></td>\n",
              "      <td>1266</td>\n",
              "      <td>1449</td>\n",
              "      <td>82</td>\n",
              "      <td></td>\n",
              "      <td>3</td>\n",
              "    </tr>\n",
              "  </tbody>\n",
              "</table>\n",
              "</div>"
            ],
            "text/plain": [
              "    ano  mes  hom_doloso  ... indicador_roubo_carga  registro_ocorrencias fase\n",
              "0  1991    1         657  ...                    63                          3\n",
              "1  1991    2         732  ...                    64                          3\n",
              "2  1991    3         713  ...                    71                          3\n",
              "3  1991    4         634  ...                    81                          3\n",
              "4  1991    5         650  ...                    82                          3\n",
              "\n",
              "[5 rows x 58 columns]"
            ]
          },
          "metadata": {
            "tags": []
          },
          "execution_count": 70
        }
      ]
    },
    {
      "cell_type": "markdown",
      "metadata": {
        "id": "RQj8bYoqw5ip",
        "colab_type": "text"
      },
      "source": [
        "### *Handling blank spaces*\n",
        "\n",
        "In order to handle the blank spaces in the dataframe, we are going to replace all the blank values by `null` value. We will take advantage of regex to help  finding any number of space character that might be on the attribute value."
      ]
    },
    {
      "cell_type": "code",
      "metadata": {
        "id": "91sL8w3cw_Ji",
        "colab_type": "code",
        "colab": {}
      },
      "source": [
        "# replacing all the blank values with NaN \n",
        "df = df.replace(r'^\\s*$', np.nan, regex=True)"
      ],
      "execution_count": 71,
      "outputs": []
    },
    {
      "cell_type": "markdown",
      "metadata": {
        "id": "l-tSpDlBxEBA",
        "colab_type": "text"
      },
      "source": [
        "### *Converting data types*\n",
        "As we saw above, many attributes got imported by Pandas as `object` data type. We need to give proper handling to such attributes, otherwise it will impact during our exploratory analysis. \n",
        "\n",
        "By verifying the original *csv* file, we will notice that all the entries have numeric values, hence we can handle those values as `int` or `float` data types. By using `df.apply(pd.to_numeric)` functions, pandas apply the conversion on the whole **dataframe**."
      ]
    },
    {
      "cell_type": "code",
      "metadata": {
        "id": "cSDxxfZSxG27",
        "colab_type": "code",
        "colab": {}
      },
      "source": [
        "# first verify the output\n",
        "df.apply(pd.to_numeric).info()\n",
        "\n",
        "# apply the dtypes conversion\n",
        "df = df.apply(pd.to_numeric)"
      ],
      "execution_count": null,
      "outputs": []
    },
    {
      "cell_type": "markdown",
      "metadata": {
        "id": "bE3EUkL1fN2k",
        "colab_type": "text"
      },
      "source": [
        "### *Handling date*\n",
        "\n",
        "The dataframe give us year and month information as different attributes - `ano` and `mes`. Such format does not help us during data manipulation, hence in order to handle that we will be creating a new column `date` as a result of `ano` and `mes` concatenation. \n",
        "After that we will parse the variable type to a *datetime*, and finally we will set the variable as the dataframe index. "
      ]
    },
    {
      "cell_type": "code",
      "metadata": {
        "id": "-flnQN1uffaW",
        "colab_type": "code",
        "colab": {}
      },
      "source": [
        "df['date'] = df['ano'].map(str) + '-' + df['mes'].map(str)\n",
        "\n",
        "df.date = pd.to_datetime(df.date)\n",
        "df.set_index(df.date, inplace=True)"
      ],
      "execution_count": 73,
      "outputs": []
    },
    {
      "cell_type": "markdown",
      "metadata": {
        "id": "eMFGmyEgAeD1",
        "colab_type": "text"
      },
      "source": [
        "### *Missing values rate*\n",
        "\n",
        "The quality of a dataset is directly related to the amount of missing values. It is important to understand early on whether these *null* values are significant compared to the total entries.\n",
        "\n",
        "It can be helpful to understand a little bit about the context and backgroud history of the dataset we are studying. It will drive us to better decisions and on the exploratory analysis, hence we will be able to get better insights.\n",
        "\n",
        "Let's find out the missing values rate of the dataset.\n"
      ]
    },
    {
      "cell_type": "code",
      "metadata": {
        "id": "8fcCW7NtAj4a",
        "colab_type": "code",
        "colab": {}
      },
      "source": [
        "df.isnull().sum().sort_values(ascending=False) / df.shape[0]"
      ],
      "execution_count": null,
      "outputs": []
    },
    {
      "cell_type": "markdown",
      "metadata": {
        "id": "G6dnsNYm-41g",
        "colab_type": "text"
      },
      "source": [
        "## Statistics Information about violence on Rio de Janeiro\n",
        "\n",
        "On 28 October 2018, Wilson Witzel was elected Governor of the State of Rio de Janeiro with a four-year term beginning in January 2019. Since then the state observed the rise of policies that include the use of **heavily armed agents** and **helicopter-borne snipers** to fight criminals in densely populated areas.\n",
        "\n",
        "The purpose of this analysis is to identify the impacts for the Rio de Janeiro population since the implementation of **hardline measures to tackle violence**. \n",
        "\n",
        "We are going to delimitate our analysis from the year of 2000 onwards. For that, let's create a new dataframe containing only the relevant data."
      ]
    },
    {
      "cell_type": "code",
      "metadata": {
        "id": "VkdIPjS89HL4",
        "colab_type": "code",
        "colab": {}
      },
      "source": [
        "df_violence_rj = pd.DataFrame(df['2000-01-01':])"
      ],
      "execution_count": 75,
      "outputs": []
    },
    {
      "cell_type": "markdown",
      "metadata": {
        "id": "d6FJ3WEv4gKE",
        "colab_type": "text"
      },
      "source": [
        "### *Police killings reach records*\n",
        "\n",
        "In order to analyze the rise of police killings across the years, we are going to use the following attribute from the *dataset*:\n",
        "\n",
        "*   `hom_por_interv_policial`: deaths by intervention of state agents\n",
        "\n",
        "Let's do a comparison year-by-year grouping by the total of deaths by intervention of state agents per year. Then we will plot a bar graph to visualize total cumulative policy killings per year:"
      ]
    },
    {
      "cell_type": "code",
      "metadata": {
        "id": "TRJ-SuVV6IAX",
        "colab_type": "code",
        "colab": {
          "base_uri": "https://localhost:8080/",
          "height": 372
        },
        "outputId": "b90a033a-1cb3-4604-e9d9-650571d7ddde"
      },
      "source": [
        "# plot bar graph year x police killings\n",
        "df_hom_por_interv_policial_year = pd.DataFrame(df_violence_rj.groupby(\"ano\")[\"hom_por_interv_policial\"].sum())\n",
        "\n",
        "fig, ax = plt.subplots(figsize=(15, 5))\n",
        "\n",
        "ax = sns.barplot(\n",
        "    x=df_hom_por_interv_policial_year.index, \n",
        "    y=\"hom_por_interv_policial\", \n",
        "    data=df_hom_por_interv_policial_year,\n",
        "    palette=\"Blues\"\n",
        ")\n",
        "\n",
        "ax.set_title(\"Number of killed people in police operations per year\")\n",
        "ax.set_ylabel(\"Number of killed people\")\n",
        "ax.set_xlabel(\"Year\")"
      ],
      "execution_count": 88,
      "outputs": [
        {
          "output_type": "execute_result",
          "data": {
            "text/plain": [
              "Text(0.5, 0, 'Year')"
            ]
          },
          "metadata": {
            "tags": []
          },
          "execution_count": 88
        },
        {
          "output_type": "display_data",
          "data": {
            "image/png": "[encoded data removed]",
            "text/plain": [
              "<Figure size 1080x360 with 1 Axes>"
            ]
          },
          "metadata": {
            "tags": []
          }
        }
      ]
    },
    {
      "cell_type": "markdown",
      "metadata": {
        "id": "5-5Q9ysfmTas",
        "colab_type": "text"
      },
      "source": [
        "The graph above demonstrate the huge discrepancy on the number of **people being killed during police raids** specially on the year of 2019 - year where Mr. Witzel took office in Rio de Janeiro. "
      ]
    },
    {
      "cell_type": "markdown",
      "metadata": {
        "id": "E0rKtRst4z1g",
        "colab_type": "text"
      },
      "source": [
        "#### *Police killing numbers in 2019*\n",
        "\n",
        "On the first year of the governor Wilson Witzel on the administration of Rio de Janeiro, the state could observe a dramatical increase on the police killings numbers during raids, as seen on the graph above. Let's now focus the analysis in 2019 - we will calculate the following:\n",
        "\n",
        "*   Total of police killings **within the year**\n",
        "*   Average of police killings per month\n",
        "*   Month where most cases of police killings were registered\n",
        "*   The rise of police killings in 2019 compared with 2018\n"
      ]
    },
    {
      "cell_type": "code",
      "metadata": {
        "id": "0Fv2hfAv5A1S",
        "colab_type": "code",
        "colab": {
          "base_uri": "https://localhost:8080/",
          "height": 70
        },
        "outputId": "2aebf560-23d2-4672-a518-dbb4e44abadc"
      },
      "source": [
        "# total of police killings within 2019\n",
        "print(\"Total of killed people in 2019: {}\".format(df_violence_rj['2019-01-01':'2019-12-01'].hom_por_interv_policial.sum()))\n",
        "# average of police killings within 2019\n",
        "print(\"Average of killed people per month in 2019: {}\".format(df_violence_rj['2019-01-01':'2019-12-01'].hom_por_interv_policial.mean()))\n",
        "# month with most registered police killings within 2019\n",
        "print(\"Record of killed people whithin a month: {}\".format(df_violence_rj['2019-01-01':'2019-12-01'].hom_por_interv_policial.max()))"
      ],
      "execution_count": 77,
      "outputs": [
        {
          "output_type": "stream",
          "text": [
            "Total of killed people in 2019: 1814.0\n",
            "Average of killed people per month in 2019: 151.16666666666666\n",
            "Record of killed people whithin a month: 195.0\n"
          ],
          "name": "stdout"
        }
      ]
    },
    {
      "cell_type": "code",
      "metadata": {
        "id": "TjJhm7fX26x1",
        "colab_type": "code",
        "colab": {
          "base_uri": "https://localhost:8080/",
          "height": 34
        },
        "outputId": "2a42c164-777c-4416-d4b1-8f93d178803f"
      },
      "source": [
        "# rise of police killings in 2019 compared with 2018\n",
        "total_hom_por_interv_policial_2019 = df_hom_por_interv_policial_year.loc[2019].hom_por_interv_policial\n",
        "total_hom_por_interv_policial_2018 = df_hom_por_interv_policial_year.loc[2018].hom_por_interv_policial\n",
        "\n",
        "hom_por_interv_policial_inc = (1 - total_hom_por_interv_policial_2018 / total_hom_por_interv_policial_2019) * 100\n",
        "\n",
        "print(\"In 2019, the number of killed people during police operations increased {}% compared to 2018\".format(\n",
        "    hom_por_interv_policial_inc.round(2)))"
      ],
      "execution_count": 78,
      "outputs": [
        {
          "output_type": "stream",
          "text": [
            "In 2019, the number of killed people during police operations increased 15.44% compared to 2018\n"
          ],
          "name": "stdout"
        }
      ]
    },
    {
      "cell_type": "markdown",
      "metadata": {
        "id": "PxElKWXNdS0V",
        "colab_type": "text"
      },
      "source": [
        "The results catch our attention:\n",
        "\n",
        "*   In 2019, **1,814** people were killed by policemen\n",
        "*   In average, **151** people were killed by policeman per month \n",
        "*   The month of July 2019 registered a record of deaths withing the year, totalling a **195 lost lifes** during a single month\n",
        "*   In 2019, the number of killed people during police operations increased **15.44%** compared to previous year"
      ]
    },
    {
      "cell_type": "markdown",
      "metadata": {
        "id": "T_JSDM7S1ImA",
        "colab_type": "text"
      },
      "source": [
        "### *Did the violence really drop?*\n",
        "\n",
        "Officials say the approach from Mr. Witzel has worked, citing a drop in violent crime. But the question that comes to mind is: **did the violence really drop because of the hardline measures implemented by the governor at cost of so many lives?**\n",
        "\n",
        "Now we are going to verify based on official published numbers if there was a significant drop on the violence since the **policy of confrontation approach** was implemented as part of administration strategy of Mr. Witzel or if this trend was already in place before.\n",
        "\n",
        "In order to analyze if violence really dropped in Rio de Janeiro, the following attributes were choosed from the *dataset*:\n",
        "\n",
        "*   `hom_doloso`: total of registered **muders** per month\n",
        "*   `total_roubos`: total of registered **threats** per month\n",
        "*   `total_furtos`: total of registered **robberies** per month"
      ]
    },
    {
      "cell_type": "markdown",
      "metadata": {
        "id": "eEt-KTwliekS",
        "colab_type": "text"
      },
      "source": [
        "#### *Murders Rate*\n",
        "A line graph is our preferred tool to track changes of variables over the time. Let's take adtantage of it and plot the murders rate over the time from 2015 onwards. We will also calculate variation between murders rate in 2019 compared with 2018."
      ]
    },
    {
      "cell_type": "code",
      "metadata": {
        "id": "zuNrSrxF7yD8",
        "colab_type": "code",
        "colab": {
          "base_uri": "https://localhost:8080/",
          "height": 372
        },
        "outputId": "d52a8e7b-40d8-4437-f1b7-3f8310f4945f"
      },
      "source": [
        "# plot line graph of murders since 2015\n",
        "fig, ax = plt.subplots(figsize=(15, 5))\n",
        "\n",
        "ax=sns.lineplot(x='date', y='hom_doloso' ,data=df_violence_rj['2015-01-01':])\n",
        "ax.set_title(\"Murder cases per month since 2015\")\n",
        "ax.set_xlabel(\"Years\")\n",
        "ax.set_ylabel(\"Number of murder cases\")"
      ],
      "execution_count": 79,
      "outputs": [
        {
          "output_type": "execute_result",
          "data": {
            "text/plain": [
              "Text(0, 0.5, 'Number of murder cases')"
            ]
          },
          "metadata": {
            "tags": []
          },
          "execution_count": 79
        },
        {
          "output_type": "display_data",
          "data": {
            "image/png": "[encoded data removed]",
            "text/plain": [
              "<Figure size 1080x360 with 1 Axes>"
            ]
          },
          "metadata": {
            "tags": [],
            "needs_background": "light"
          }
        }
      ]
    },
    {
      "cell_type": "markdown",
      "metadata": {
        "id": "YCBZZCGHt08q",
        "colab_type": "text"
      },
      "source": [
        "From the graph we can see the murders rate varies across the years by different reasons - coming from social to political aspects.\n",
        "\n",
        "However, catch out attention the trend of a descent movement in place since the beginning of 2018, so that's why we are going to analyse:\n",
        " \n",
        "*   murders variation within 2018  \n",
        "*   murders variation of 2019 compared with 2018\n"
      ]
    },
    {
      "cell_type": "code",
      "metadata": {
        "id": "C4LOpVagYhbC",
        "colab_type": "code",
        "colab": {
          "base_uri": "https://localhost:8080/",
          "height": 34
        },
        "outputId": "a36ef74b-bddf-45b3-87f3-f07e242c745e"
      },
      "source": [
        "# calculating the percentage variation of murders rate between 2018\n",
        "min_hom_doloso_2018 = df_violence_rj.loc[df_violence_rj['ano']==2018].hom_doloso.min()\n",
        "max_hom_doloso_2018 = df_violence_rj.loc[df_violence_rj['ano']==2018].hom_doloso.max()\n",
        "\n",
        "total_hom_doloso_2018 = (1 - min_hom_doloso_2018 / max_hom_doloso_2018) * 100\n",
        "\n",
        "print(\"Variation of murders rate within 2018: {}%\".format(total_hom_doloso_2018))"
      ],
      "execution_count": 80,
      "outputs": [
        {
          "output_type": "stream",
          "text": [
            "Variation of murders rate within 2018: 31.88976377952756%\n"
          ],
          "name": "stdout"
        }
      ]
    },
    {
      "cell_type": "code",
      "metadata": {
        "id": "XnMhCm68CXWj",
        "colab_type": "code",
        "colab": {
          "base_uri": "https://localhost:8080/",
          "height": 34
        },
        "outputId": "4f467e31-54f2-42f7-dfb4-937a270f6d15"
      },
      "source": [
        "# calculating the percentage variation of murders rate between 2018 and 2019\n",
        "total_hom_doloso_2018 = df_violence_rj.loc[df_violence_rj['ano']==2018].hom_doloso.sum()\n",
        "total_hom_doloso_2019 = df_violence_rj.loc[df_violence_rj['ano']==2019].hom_doloso.sum()\n",
        "\n",
        "total_hom_doloso_inc = (1 - total_hom_doloso_2018 / total_hom_doloso_2019) * 100\n",
        "\n",
        "print(\"Variation of murders rate in between 2018/2019: {}%\".format(total_hom_doloso_inc.round(2)))"
      ],
      "execution_count": 81,
      "outputs": [
        {
          "output_type": "stream",
          "text": [
            "Variation of murders rate in between 2018/2019: -23.63%\n"
          ],
          "name": "stdout"
        }
      ]
    },
    {
      "cell_type": "markdown",
      "metadata": {
        "id": "UZxLjCUXf4pI",
        "colab_type": "text"
      },
      "source": [
        "The variation of murders rate in between 2018/2019 was -23.63%, however as we saw on the graph this trend was already being observed since the end 2017, where such kind of hardline measured were not in place.\n",
        "\n",
        "Within 2018 it could be observed a variation of -%31 of the murders rate, considering the maximum and the minimum number of registered murders within the months.\n",
        "\n",
        "The question that stays is: Did the **policy of confrontation** deserve the prize for violence drop? \n",
        "\n"
      ]
    },
    {
      "cell_type": "markdown",
      "metadata": {
        "id": "-I6EgBknl9PT",
        "colab_type": "text"
      },
      "source": [
        "#### *Threats and Robbery Rates*\n",
        "Let's take advantage of a line graph to visualize how threats and robbery rates are behaving over the years since 2015 onwards. We will also calculate variation between threats and robbery rates in 2019 when compared to 2018.\n"
      ]
    },
    {
      "cell_type": "code",
      "metadata": {
        "id": "5RDgmTY-2HRE",
        "colab_type": "code",
        "colab": {
          "base_uri": "https://localhost:8080/",
          "height": 372
        },
        "outputId": "c6119273-2e18-4c5b-86cc-e61fbe01b2a2"
      },
      "source": [
        "# plot line graph with values of threats and robberies\n",
        "fig, ax = plt.subplots(figsize=(15, 5))\n",
        "\n",
        "ax = sns.lineplot(x='date', y='total_roubos' ,data=df_violence_rj['2015-01-01':], label=\"Threats\")\n",
        "ax = sns.lineplot(x='date', y='total_furtos' ,data=df_violence_rj['2015-01-01':], label=\"Robberies\")\n",
        "\n",
        "ax.set_title(\"Threats and robberies cases per month since 2015\")\n",
        "ax.set_xlabel(\"Years\")\n",
        "ax.set_ylabel(\"Number of threats and robberies cases\")\n",
        "ax.legend()"
      ],
      "execution_count": 82,
      "outputs": [
        {
          "output_type": "execute_result",
          "data": {
            "text/plain": [
              "<matplotlib.legend.Legend at 0x7f8046709278>"
            ]
          },
          "metadata": {
            "tags": []
          },
          "execution_count": 82
        },
        {
          "output_type": "display_data",
          "data": {
            "image/png": "[encoded data removed]",
            "text/plain": [
              "<Figure size 1080x360 with 1 Axes>"
            ]
          },
          "metadata": {
            "tags": [],
            "needs_background": "light"
          }
        }
      ]
    },
    {
      "cell_type": "code",
      "metadata": {
        "id": "DI3sJy4WEDSt",
        "colab_type": "code",
        "colab": {
          "base_uri": "https://localhost:8080/",
          "height": 34
        },
        "outputId": "5ab65286-0b4b-4c30-bc7a-1eac2662fb56"
      },
      "source": [
        "# calculating the percentage variation of threats rate between 2018 and 2019\n",
        "total_threats_2018 = df_violence_rj.loc[df_violence_rj['ano']==2018].total_roubos.sum()\n",
        "total_threats_2019 = df_violence_rj.loc[df_violence_rj['ano']==2019].total_roubos.sum()\n",
        "\n",
        "total_threats_inc = (1 - total_threats_2018 / total_threats_2019) * 100\n",
        "\n",
        "print(\"Variation of threats rate in between 2018/2019: {}%\".format(total_threats_inc.round(2)))"
      ],
      "execution_count": 83,
      "outputs": [
        {
          "output_type": "stream",
          "text": [
            "Variation of threats rate in between 2018/2019: -16.2%\n"
          ],
          "name": "stdout"
        }
      ]
    },
    {
      "cell_type": "code",
      "metadata": {
        "id": "o0eG0P-qFAgy",
        "colab_type": "code",
        "colab": {
          "base_uri": "https://localhost:8080/",
          "height": 34
        },
        "outputId": "d97cdc31-5daa-4d37-95c8-b95208c085d3"
      },
      "source": [
        "# calculating the percentage variation of robbery rate between 2018 and 2019\n",
        "total_robbery_2018 = df_violence_rj.loc[df_violence_rj['ano']==2018].total_furtos.sum()\n",
        "total_robbery_2019 = df_violence_rj.loc[df_violence_rj['ano']==2019].total_furtos.sum()\n",
        "\n",
        "total_robbery_inc = (1 - total_robbery_2018 / total_robbery_2019) * 100\n",
        "\n",
        "print(\"Variation of robbery rate in between 2018/2019: {}%\".format(total_robbery_inc.round(2)))"
      ],
      "execution_count": 84,
      "outputs": [
        {
          "output_type": "stream",
          "text": [
            "Variation of robbery rate in between 2018/2019: 6.89%\n"
          ],
          "name": "stdout"
        }
      ]
    },
    {
      "cell_type": "code",
      "metadata": {
        "id": "nN6qi8Z-Kblf",
        "colab_type": "code",
        "colab": {
          "base_uri": "https://localhost:8080/",
          "height": 158
        },
        "outputId": "27e71680-9f81-4473-cfdd-21fc06a910b5"
      },
      "source": [
        "# getting dates when it was registered the peaks and botton values of threat and robbery\n",
        "min_robb = df.total_furtos.min()\n",
        "max_robb = df.total_furtos.max()\n",
        "min_threats = df.total_roubos.min()\n",
        "max_threats = df.total_roubos.max()\n",
        "\n",
        "print(\"MIN threats on the period: {} \".format(min_threats))\n",
        "print(\"MAX threats on the period: {} \".format(max_threats))\n",
        "print(\"DATE lowest number of theats: {}\".format(df[df['total_roubos']==min_threats].index[0]))\n",
        "print(\"DATE highest number of theats: {}\".format(df[df['total_roubos']==max_threats].index[0]))\n",
        "\n",
        "print(\"MIN robberies on the period: {} \".format(min_robb))\n",
        "print(\"MAX robberies on the period: {} \".format(max_robb))\n",
        "print(\"DATE lowest number of robberies: {}\".format(df[df['total_furtos']==min_robb].index[0]))\n",
        "print(\"DATE highest number of robberies: {}\".format(df[df['total_furtos']==max_robb].index[0]))"
      ],
      "execution_count": 85,
      "outputs": [
        {
          "output_type": "stream",
          "text": [
            "MIN threats on the period: 3261 \n",
            "MAX threats on the period: 23203 \n",
            "DATE lowest number of theats: 1991-02-01 00:00:00\n",
            "DATE highest number of theats: 2017-05-01 00:00:00\n",
            "MIN robberies on the period: 4691 \n",
            "MAX robberies on the period: 18003 \n",
            "DATE lowest number of robberies: 1995-11-01 00:00:00\n",
            "DATE highest number of robberies: 2014-03-01 00:00:00\n"
          ],
          "name": "stdout"
        }
      ]
    },
    {
      "cell_type": "markdown",
      "metadata": {
        "id": "PMaUdVKAwkSS",
        "colab_type": "text"
      },
      "source": [
        "The threat rate has reached it's peak on the year of 2017, accounting 23,203 ocurrences within the same month. When it comes to robbery rate, it has reached it's peak on the year of 2014, with 18,003 registed ocurrences in a single month.\n",
        "\n",
        "During first year of Mr Witzel governament, it was observed a -16.2% decrease on threats rate compared with 2018. However, the robbery rates are still in a ascendent movement, with a increase of 6.89%."
      ]
    },
    {
      "cell_type": "markdown",
      "metadata": {
        "id": "RwIuml9V7ZSe",
        "colab_type": "text"
      },
      "source": [
        "#### *Year of 2020*\n",
        "\n",
        "The year of 2020 is atypical year where the world got hit by COVID-19 pandemic. Most of the countries worlwide have implemented social isolation and naturally the urban violence trend is to drop.\n",
        "\n",
        "This article is being written when the most recent security statistics from Rio de Janeiro published is until June 2020.\n",
        "\n",
        "Let's compare the police killings rates observed during 2020 until June against the same period within previous years.\n",
        "\n",
        "For that purpose we will filter our dataframe by applying the following constraints:\n",
        "\n",
        "*   `df_violence_rj.ano >= 2018`\n",
        "*   `df_violence_rj.mes < 6`\n"
      ]
    },
    {
      "cell_type": "code",
      "metadata": {
        "id": "OVsRgoyzJalO",
        "colab_type": "code",
        "colab": {}
      },
      "source": [
        "# filter dataframe to df_violence_rj.ano >= 2018 and df_violence_rj.mes < 6\n",
        "df_deaths_by_agents_monthly = df_violence_rj[(df_violence_rj.ano >= 2018) & (df_violence_rj.mes < 6)]"
      ],
      "execution_count": 86,
      "outputs": []
    },
    {
      "cell_type": "code",
      "metadata": {
        "id": "szkhdP3PEuVK",
        "colab_type": "code",
        "colab": {
          "base_uri": "https://localhost:8080/",
          "height": 401
        },
        "outputId": "af193040-bd26-45b6-d007-dd2aa5544163"
      },
      "source": [
        "# plot bar graph for months comparison within the years of 2018, 2019 and 2020\n",
        "sns.set(style=\"whitegrid\")\n",
        "\n",
        "g= sns.catplot(x='mes', y='hom_por_interv_policial', hue='ano', data=df_deaths_by_agents_monthly, kind='bar',\n",
        "               height=5, aspect=1.7, palette=\"Blues\")\n",
        "\n",
        "g.despine(left=True)\n",
        "g.set_ylabels(\"Number of people killed in police operations per month\")\n",
        "g.set_xlabels(\"Month\")"
      ],
      "execution_count": 87,
      "outputs": [
        {
          "output_type": "execute_result",
          "data": {
            "text/plain": [
              "<seaborn.axisgrid.FacetGrid at 0x7f804664a6a0>"
            ]
          },
          "metadata": {
            "tags": []
          },
          "execution_count": 87
        },
        {
          "output_type": "display_data",
          "data": {
            "image/png": "[encoded data removed]",
            "text/plain": [
              "<Figure size 679.475x360 with 1 Axes>"
            ]
          },
          "metadata": {
            "tags": []
          }
        }
      ]
    },
    {
      "cell_type": "markdown",
      "metadata": {
        "id": "LCsiXvM3BcsO",
        "colab_type": "text"
      },
      "source": [
        "## Conclusion\n",
        "\n",
        "The police killing rate reached a unprecedented record on 2019, totalling 1,814 deaths within the year and a average of 151 people being killed during police operations per month. This impressive numbers are result of the rise on policies that include the use of heavily armed agents and helicopter-borne snipers to fight crime.\n",
        "\n",
        "Out of the total of 1,814 deaths there are countless innocent people that were wrongfully targeted and died in the crossfire during police raids.  \n",
        "\n",
        "Mr. Witzel celebrates the numbers on Twitter, saying his policies were \"generating positive results month after month\".\n",
        "\n",
        "Based on official numbers published by Rio de Janeiro Governor, we could observe that only in 2018 the number of murders had a big reduction of -%31, before new Governor strategy of \"police of confrontation\" was implemented.\n",
        "\n",
        "During first year of Mr. Witzel governament, the variation of murders rate in between 2018/2019 was of -23.63%, it was also observed a -16.2% decrease on threats rate if compared with 2018. However, the robbery rates are still in a ascendent movement, with a increase of 6.89%.\n",
        "\n",
        "The main question that arises is: the solution for Rio de Janeiro violence is to give agents free hand to kill people?\n",
        "\n",
        "The purpose of this analysis was to identify the positive and negative impacts for the population of Rio de Janeiro since the implementation of hardline measures on the State."
      ]
    }
  ]
}