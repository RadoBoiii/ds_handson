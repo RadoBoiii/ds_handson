{
  "nbformat": 4,
  "nbformat_minor": 0,
  "metadata": {
    "colab": {
      "name": "Telecom Churn Prediction.ipynb",
      "provenance": [],
      "collapsed_sections": [],
      "toc_visible": true,
      "include_colab_link": true
    },
    "kernelspec": {
      "name": "python3",
      "display_name": "Python 3"
    }
  },
  "cells": [
    {
      "cell_type": "markdown",
      "metadata": {
        "id": "view-in-github",
        "colab_type": "text"
      },
      "source": [
        "<a href=\"https://colab.research.google.com/github/mmcuri/ds_handson/blob/master/Telecom_Churn_Prediction.ipynb\" target=\"_parent\"><img src=\"https://colab.research.google.com/assets/colab-badge.svg\" alt=\"Open In Colab\"/></a>"
      ]
    },
    {
      "cell_type": "code",
      "metadata": {
        "id": "Z5ZdM1XhVwo8",
        "colab_type": "code",
        "colab": {}
      },
      "source": [
        ""
      ],
      "execution_count": 241,
      "outputs": []
    },
    {
      "cell_type": "markdown",
      "metadata": {
        "id": "8UtXyZ6stlSM",
        "colab_type": "text"
      },
      "source": [
        "## Instruções para o modelo de churn prediction\n",
        "\n",
        "ENTENDA O SEU PROBLEMA\n",
        "* Olhar o todo e delimitar o escopo do projeto\n",
        "* Como a solução vai ser usada?\n",
        "* Quais são as soluções já existentes?\n",
        "* Qual abordagem usar?\n",
        "    * Aprendizado Supervisionado\n",
        "    * Aprendizado Não Supervisionado\n",
        "    * Aprendizado Por Reforço\n",
        "* Qual é a métrica de performance?\n",
        "* Qual a performance mínima esperada para atingir o objetivo?\n",
        "* Liste as premissas básicas do projeto\n",
        "* Pesquise sobre *churn rate* no Google\n",
        "* Veja os serviços que outras empresas de Telecom oferecem \n",
        "\n",
        "EXPLORAR OS DADOS\n",
        "* Estudar cada atributo e suas características:\n",
        "    * Nome\n",
        "    * Tipo\n",
        "        * Categórica\n",
        "        * Numérica\n",
        "            * int\n",
        "            * float\n",
        "        * Estruturada\n",
        "        * Não Estruturada\n",
        "        * etc\n",
        "    * % de valores ausentes\n",
        "    * Ruído nos dados e tipo de ruído (outliers, estocásticos, erros de arredondamento)\n",
        "    * Tipo de distribuição\n",
        "        * Gaussiana\n",
        "        * Uniforme\n",
        "        * Logarítmica\n",
        "        * etc\n",
        "* Identificar a variável alvo (target)\n",
        "* Visualizar os dados\n",
        "* Estudar a correlação entre os dados\n",
        "* Ver o balanceamento das classes\n",
        "* Identificar as transformações que podem ser aplicadas\n",
        "* Identificar os dados extras que podem ser úteis\n",
        "\n",
        "\n",
        "PREPARAÇÃO DOS DADOS\n",
        "* Limpeza dos Dados\n",
        "    * Consertar ou remover outliers\n",
        "    * Preencher os valores faltantes ou eliminar as linhas/colunas\n",
        "        * Zero\n",
        "        * Média\n",
        "        * Mediana\n",
        "        * Frequência\n",
        "* Seleção de atributos\n",
        "    * Eliminar os atributos (*features*) que não contêm informações úteis\n",
        "\n",
        "* *Feature Engineering*\n",
        "    * Discretizar variáveis contínuas\n",
        "    * Decompor *features* (categóricas, data, tempo)\n",
        "    * Aplicar transformações às variáveis\n",
        "    * Agregar *features* para gerar novas\n",
        "    \n",
        "* *Feature Scaling*\n",
        "    * Normalizar ou padronizar *features*\n",
        "\n",
        "* Dividir entre treino, teste e validação\n",
        "\n",
        "CONSTRUIR MODELO(S) DE MACHINE LEARNING\n",
        "* Analisar as variáveis mais significativas para cada algoritmo\n",
        "* *Hyperparameters Tuning* (se necessário)\n",
        "* Uso de *cross-validation*\n",
        "* Verificar o desempenho do(s) modelo(s) e considerar métodos *Ensemble*"
      ]
    },
    {
      "cell_type": "markdown",
      "metadata": {
        "id": "IR56trFcPcC1",
        "colab_type": "text"
      },
      "source": [
        "# Churn Prediction\n",
        "\n",
        "Customer churn, when a customer ends their relationship with a business, is one of the most basic factors in determining the revenue of a business. You need to know which of your customers are loyal and which are at risk of churning, and you need to know the factors that affect these decisions from a customer perspective. \n",
        "\n",
        "This code pattern explains how to build a machine learning model and use it to predict whether a customer is at risk of churning. This is a full data science project, and you can use your model findings for prescriptive analysis later or for targeted marketing."
      ]
    },
    {
      "cell_type": "markdown",
      "metadata": {
        "id": "KIOrnur9K8AJ",
        "colab_type": "text"
      },
      "source": [
        "## Project Initial Setup"
      ]
    },
    {
      "cell_type": "code",
      "metadata": {
        "id": "djAzrjBaLNWI",
        "colab_type": "code",
        "colab": {
          "base_uri": "https://localhost:8080/",
          "height": 212
        },
        "outputId": "2484ee6c-a3b5-4f23-aed6-650ecaba3797"
      },
      "source": [
        "# install scikit plot package\n",
        "!pip install scikit-plot"
      ],
      "execution_count": 242,
      "outputs": [
        {
          "output_type": "stream",
          "text": [
            "Requirement already satisfied: scikit-plot in /usr/local/lib/python3.6/dist-packages (0.3.7)\n",
            "Requirement already satisfied: matplotlib>=1.4.0 in /usr/local/lib/python3.6/dist-packages (from scikit-plot) (3.2.2)\n",
            "Requirement already satisfied: scipy>=0.9 in /usr/local/lib/python3.6/dist-packages (from scikit-plot) (1.4.1)\n",
            "Requirement already satisfied: scikit-learn>=0.18 in /usr/local/lib/python3.6/dist-packages (from scikit-plot) (0.22.2.post1)\n",
            "Requirement already satisfied: joblib>=0.10 in /usr/local/lib/python3.6/dist-packages (from scikit-plot) (0.16.0)\n",
            "Requirement already satisfied: numpy>=1.11 in /usr/local/lib/python3.6/dist-packages (from matplotlib>=1.4.0->scikit-plot) (1.18.5)\n",
            "Requirement already satisfied: python-dateutil>=2.1 in /usr/local/lib/python3.6/dist-packages (from matplotlib>=1.4.0->scikit-plot) (2.8.1)\n",
            "Requirement already satisfied: cycler>=0.10 in /usr/local/lib/python3.6/dist-packages (from matplotlib>=1.4.0->scikit-plot) (0.10.0)\n",
            "Requirement already satisfied: pyparsing!=2.0.4,!=2.1.2,!=2.1.6,>=2.0.1 in /usr/local/lib/python3.6/dist-packages (from matplotlib>=1.4.0->scikit-plot) (2.4.7)\n",
            "Requirement already satisfied: kiwisolver>=1.0.1 in /usr/local/lib/python3.6/dist-packages (from matplotlib>=1.4.0->scikit-plot) (1.2.0)\n",
            "Requirement already satisfied: six>=1.5 in /usr/local/lib/python3.6/dist-packages (from python-dateutil>=2.1->matplotlib>=1.4.0->scikit-plot) (1.12.0)\n"
          ],
          "name": "stdout"
        }
      ]
    },
    {
      "cell_type": "code",
      "metadata": {
        "id": "oEkDizrIK-kH",
        "colab_type": "code",
        "colab": {}
      },
      "source": [
        "# importing libraries\n",
        "import pandas as pd\n",
        "import numpy as np\n",
        "import seaborn as sns\n",
        "import matplotlib.pyplot as plt\n",
        "import scikitplot as skplt\n",
        "%matplotlib inline\n",
        "\n",
        "from sklearn.linear_model import LogisticRegression\n",
        "from sklearn.metrics import classification_report  \n",
        "from sklearn.metrics import confusion_matrix  \n",
        "from sklearn.metrics import accuracy_score\n",
        "from sklearn.metrics import roc_auc_score\n",
        "from sklearn.preprocessing import StandardScaler, LabelEncoder\n",
        "from sklearn.model_selection import train_test_split\n",
        "from sklearn.model_selection import cross_val_score\n",
        "from sklearn.model_selection import StratifiedKFold\n",
        "from sklearn.model_selection import GridSearchCV\n",
        "from sklearn.pipeline import make_pipeline\n",
        "from sklearn.ensemble import RandomForestClassifier\n",
        "\n",
        "from imblearn.under_sampling import RandomUnderSampler\n",
        "\n",
        "# configure graph style\n",
        "sns.set_style('darkgrid')\n",
        "#palette=sns.color_palette(\"GnBu_d\")\n",
        "#palette=sns.color_palette(\"BuGn_r\")\n",
        "#palette = sns.light_palette(\"navy\", reverse=True)\n",
        "palette = sns.color_palette(\"coolwarm\", 7)"
      ],
      "execution_count": 243,
      "outputs": []
    },
    {
      "cell_type": "markdown",
      "metadata": {
        "id": "0HVmpIxQWT4Y",
        "colab_type": "text"
      },
      "source": [
        "## The Data\n",
        "\n",
        "Os dados utilizados neste projeto foram originalmente disponibilizados na [plataforma de ensino da IBM Developer](https://developer.ibm.com/technologies/data-science/patterns/predict-customer-churn-using-watson-studio-and-jupyter-notebooks/#), e tratam de um problema típico de uma companhia de telecomunicações. O *dataset* completo pode ser encontrado [neste link](https://raw.githubusercontent.com/carlosfab/dsnp2/master/datasets/WA_Fn-UseC_-Telco-Customer-Churn.csv).\n",
        "\n",
        "Apesar de não haver informações explícitas disponíves, os nomes das colunas permitem um entendimento a respeito do problema."
      ]
    },
    {
      "cell_type": "markdown",
      "metadata": {
        "id": "Nz9jrZQvL0uv",
        "colab_type": "text"
      },
      "source": [
        "### *Importing dataset*"
      ]
    },
    {
      "cell_type": "code",
      "metadata": {
        "id": "oQ4bNy7udtEE",
        "colab_type": "code",
        "colab": {
          "base_uri": "https://localhost:8080/",
          "height": 301
        },
        "outputId": "af2ed6ca-dd54-4aa4-b456-d216b97516f4"
      },
      "source": [
        "# importing data\n",
        "DATA_PATH = \"https://raw.githubusercontent.com/carlosfab/dsnp2/master/datasets/WA_Fn-UseC_-Telco-Customer-Churn.csv\"\n",
        "df = pd.read_csv(DATA_PATH)\n",
        "\n",
        "# check first 5 entries\n",
        "df.head()"
      ],
      "execution_count": 244,
      "outputs": [
        {
          "output_type": "execute_result",
          "data": {
            "text/html": [
              "<div>\n",
              "<style scoped>\n",
              "    .dataframe tbody tr th:only-of-type {\n",
              "        vertical-align: middle;\n",
              "    }\n",
              "\n",
              "    .dataframe tbody tr th {\n",
              "        vertical-align: top;\n",
              "    }\n",
              "\n",
              "    .dataframe thead th {\n",
              "        text-align: right;\n",
              "    }\n",
              "</style>\n",
              "<table border=\"1\" class=\"dataframe\">\n",
              "  <thead>\n",
              "    <tr style=\"text-align: right;\">\n",
              "      <th></th>\n",
              "      <th>customerID</th>\n",
              "      <th>gender</th>\n",
              "      <th>SeniorCitizen</th>\n",
              "      <th>Partner</th>\n",
              "      <th>Dependents</th>\n",
              "      <th>tenure</th>\n",
              "      <th>PhoneService</th>\n",
              "      <th>MultipleLines</th>\n",
              "      <th>InternetService</th>\n",
              "      <th>OnlineSecurity</th>\n",
              "      <th>OnlineBackup</th>\n",
              "      <th>DeviceProtection</th>\n",
              "      <th>TechSupport</th>\n",
              "      <th>StreamingTV</th>\n",
              "      <th>StreamingMovies</th>\n",
              "      <th>Contract</th>\n",
              "      <th>PaperlessBilling</th>\n",
              "      <th>PaymentMethod</th>\n",
              "      <th>MonthlyCharges</th>\n",
              "      <th>TotalCharges</th>\n",
              "      <th>Churn</th>\n",
              "    </tr>\n",
              "  </thead>\n",
              "  <tbody>\n",
              "    <tr>\n",
              "      <th>0</th>\n",
              "      <td>7590-VHVEG</td>\n",
              "      <td>Female</td>\n",
              "      <td>0</td>\n",
              "      <td>Yes</td>\n",
              "      <td>No</td>\n",
              "      <td>1</td>\n",
              "      <td>No</td>\n",
              "      <td>No phone service</td>\n",
              "      <td>DSL</td>\n",
              "      <td>No</td>\n",
              "      <td>Yes</td>\n",
              "      <td>No</td>\n",
              "      <td>No</td>\n",
              "      <td>No</td>\n",
              "      <td>No</td>\n",
              "      <td>Month-to-month</td>\n",
              "      <td>Yes</td>\n",
              "      <td>Electronic check</td>\n",
              "      <td>29.85</td>\n",
              "      <td>29.85</td>\n",
              "      <td>No</td>\n",
              "    </tr>\n",
              "    <tr>\n",
              "      <th>1</th>\n",
              "      <td>5575-GNVDE</td>\n",
              "      <td>Male</td>\n",
              "      <td>0</td>\n",
              "      <td>No</td>\n",
              "      <td>No</td>\n",
              "      <td>34</td>\n",
              "      <td>Yes</td>\n",
              "      <td>No</td>\n",
              "      <td>DSL</td>\n",
              "      <td>Yes</td>\n",
              "      <td>No</td>\n",
              "      <td>Yes</td>\n",
              "      <td>No</td>\n",
              "      <td>No</td>\n",
              "      <td>No</td>\n",
              "      <td>One year</td>\n",
              "      <td>No</td>\n",
              "      <td>Mailed check</td>\n",
              "      <td>56.95</td>\n",
              "      <td>1889.5</td>\n",
              "      <td>No</td>\n",
              "    </tr>\n",
              "    <tr>\n",
              "      <th>2</th>\n",
              "      <td>3668-QPYBK</td>\n",
              "      <td>Male</td>\n",
              "      <td>0</td>\n",
              "      <td>No</td>\n",
              "      <td>No</td>\n",
              "      <td>2</td>\n",
              "      <td>Yes</td>\n",
              "      <td>No</td>\n",
              "      <td>DSL</td>\n",
              "      <td>Yes</td>\n",
              "      <td>Yes</td>\n",
              "      <td>No</td>\n",
              "      <td>No</td>\n",
              "      <td>No</td>\n",
              "      <td>No</td>\n",
              "      <td>Month-to-month</td>\n",
              "      <td>Yes</td>\n",
              "      <td>Mailed check</td>\n",
              "      <td>53.85</td>\n",
              "      <td>108.15</td>\n",
              "      <td>Yes</td>\n",
              "    </tr>\n",
              "    <tr>\n",
              "      <th>3</th>\n",
              "      <td>7795-CFOCW</td>\n",
              "      <td>Male</td>\n",
              "      <td>0</td>\n",
              "      <td>No</td>\n",
              "      <td>No</td>\n",
              "      <td>45</td>\n",
              "      <td>No</td>\n",
              "      <td>No phone service</td>\n",
              "      <td>DSL</td>\n",
              "      <td>Yes</td>\n",
              "      <td>No</td>\n",
              "      <td>Yes</td>\n",
              "      <td>Yes</td>\n",
              "      <td>No</td>\n",
              "      <td>No</td>\n",
              "      <td>One year</td>\n",
              "      <td>No</td>\n",
              "      <td>Bank transfer (automatic)</td>\n",
              "      <td>42.30</td>\n",
              "      <td>1840.75</td>\n",
              "      <td>No</td>\n",
              "    </tr>\n",
              "    <tr>\n",
              "      <th>4</th>\n",
              "      <td>9237-HQITU</td>\n",
              "      <td>Female</td>\n",
              "      <td>0</td>\n",
              "      <td>No</td>\n",
              "      <td>No</td>\n",
              "      <td>2</td>\n",
              "      <td>Yes</td>\n",
              "      <td>No</td>\n",
              "      <td>Fiber optic</td>\n",
              "      <td>No</td>\n",
              "      <td>No</td>\n",
              "      <td>No</td>\n",
              "      <td>No</td>\n",
              "      <td>No</td>\n",
              "      <td>No</td>\n",
              "      <td>Month-to-month</td>\n",
              "      <td>Yes</td>\n",
              "      <td>Electronic check</td>\n",
              "      <td>70.70</td>\n",
              "      <td>151.65</td>\n",
              "      <td>Yes</td>\n",
              "    </tr>\n",
              "  </tbody>\n",
              "</table>\n",
              "</div>"
            ],
            "text/plain": [
              "   customerID  gender  SeniorCitizen  ... MonthlyCharges TotalCharges  Churn\n",
              "0  7590-VHVEG  Female              0  ...          29.85        29.85     No\n",
              "1  5575-GNVDE    Male              0  ...          56.95       1889.5     No\n",
              "2  3668-QPYBK    Male              0  ...          53.85       108.15    Yes\n",
              "3  7795-CFOCW    Male              0  ...          42.30      1840.75     No\n",
              "4  9237-HQITU  Female              0  ...          70.70       151.65    Yes\n",
              "\n",
              "[5 rows x 21 columns]"
            ]
          },
          "metadata": {
            "tags": []
          },
          "execution_count": 244
        }
      ]
    },
    {
      "cell_type": "markdown",
      "metadata": {
        "id": "CdmRQpzoL7Ts",
        "colab_type": "text"
      },
      "source": [
        "### *Data Dictionary*\n",
        "\n",
        "*\t`customerID` - Custumer unique identifier\n",
        "*\t`gender` - Customer gender - ['Female' 'Male']\n",
        "*\t`SeniorCitizen` - Elderly or retired person, a senior citizen is someone who has at least attained the age of 60 of 65 years\n",
        "*\t`Partner` - - ['No' 'Yes']\n",
        "*\t`Dependents` - If customer has dependents - ['No' 'Yes']\n",
        "*\t`Tenure` - Customer lifespan (in months)\n",
        "*\t`PhoneService` - - ['No' 'Yes']\n",
        "*\t`MultipleLines` - - ['No' 'No phone service' 'Yes']\n",
        "*\t`InternetService` - - ['No' 'No internet service' 'Yes']\n",
        "*\t`OnlineSecurity` - - ['No' 'No internet service' 'Yes']\n",
        "*\t`OnlineBackup` - - ['No' 'No internet service' 'Yes']\n",
        "*\t`DeviceProtection` - - ['No' 'No internet service' 'Yes']\n",
        "*\t`TechSupport` - - ['No' 'No internet service' 'Yes']\n",
        "*\t`StreamingTV` - - ['No' 'No internet service' 'Yes']\n",
        "*\t`StreamingMovies` -  - ['No' 'No internet service' 'Yes']\n",
        "*\t`Contract` - Type of contract - ['Month-to-month' 'One year' 'Two year']\n",
        "*\t`PaperlessBilling` - - ['No' 'Yes']\n",
        "*\t`PaymentMethod` - payment method - ['Bank transfer (automatic)', 'Credit card (automatic)', 'Electronic check', 'Mailed check']\n",
        "*\t`MonthlyCharges` - Monthly Recurring Charges\n",
        "*\t`TotalCharges` - Life time value\n",
        "*\t`Churn` - Churn value, the targer vector - ['No' 'Yes']\n",
        "\n",
        "\n",
        "\n"
      ]
    },
    {
      "cell_type": "markdown",
      "metadata": {
        "id": "eysbDSFF_365",
        "colab_type": "text"
      },
      "source": [
        "### *Dataframe size and info*"
      ]
    },
    {
      "cell_type": "code",
      "metadata": {
        "id": "ue0r1_yYUOyt",
        "colab_type": "code",
        "colab": {
          "base_uri": "https://localhost:8080/",
          "height": 87
        },
        "outputId": "dad52dde-c05e-47e2-d707-d615f88bea7d"
      },
      "source": [
        "def get_df_size(df, header='Dataset dimensions'):\n",
        "  print(header,\n",
        "        '\\n# Attributes: ', df.shape[1], \n",
        "        '\\n# Entries: ', df.shape[0],'\\n')\n",
        "  \n",
        "get_df_size(df)"
      ],
      "execution_count": 245,
      "outputs": [
        {
          "output_type": "stream",
          "text": [
            "Dataset dimensions \n",
            "# Attributes:  21 \n",
            "# Entries:  7043 \n",
            "\n"
          ],
          "name": "stdout"
        }
      ]
    },
    {
      "cell_type": "markdown",
      "metadata": {
        "id": "Es_O4g9j_7t3",
        "colab_type": "text"
      },
      "source": [
        "### *Features and data types*"
      ]
    },
    {
      "cell_type": "markdown",
      "metadata": {
        "id": "v_0_rRy5fbMH",
        "colab_type": "text"
      },
      "source": [
        "The feature `TotalCharges` got read by Pandas as `object` data type. This have impacts during the exploratory analysis and have to be handled. We will convert datatype to `float64` in the coming sections."
      ]
    },
    {
      "cell_type": "code",
      "metadata": {
        "id": "NMDzMx5ZUPSB",
        "colab_type": "code",
        "colab": {
          "base_uri": "https://localhost:8080/",
          "height": 514
        },
        "outputId": "ecccf13a-e972-4a7c-ba62-fefdc9841825"
      },
      "source": [
        "df.info()"
      ],
      "execution_count": 246,
      "outputs": [
        {
          "output_type": "stream",
          "text": [
            "<class 'pandas.core.frame.DataFrame'>\n",
            "RangeIndex: 7043 entries, 0 to 7042\n",
            "Data columns (total 21 columns):\n",
            " #   Column            Non-Null Count  Dtype  \n",
            "---  ------            --------------  -----  \n",
            " 0   customerID        7043 non-null   object \n",
            " 1   gender            7043 non-null   object \n",
            " 2   SeniorCitizen     7043 non-null   int64  \n",
            " 3   Partner           7043 non-null   object \n",
            " 4   Dependents        7043 non-null   object \n",
            " 5   tenure            7043 non-null   int64  \n",
            " 6   PhoneService      7043 non-null   object \n",
            " 7   MultipleLines     7043 non-null   object \n",
            " 8   InternetService   7043 non-null   object \n",
            " 9   OnlineSecurity    7043 non-null   object \n",
            " 10  OnlineBackup      7043 non-null   object \n",
            " 11  DeviceProtection  7043 non-null   object \n",
            " 12  TechSupport       7043 non-null   object \n",
            " 13  StreamingTV       7043 non-null   object \n",
            " 14  StreamingMovies   7043 non-null   object \n",
            " 15  Contract          7043 non-null   object \n",
            " 16  PaperlessBilling  7043 non-null   object \n",
            " 17  PaymentMethod     7043 non-null   object \n",
            " 18  MonthlyCharges    7043 non-null   float64\n",
            " 19  TotalCharges      7043 non-null   object \n",
            " 20  Churn             7043 non-null   object \n",
            "dtypes: float64(1), int64(2), object(18)\n",
            "memory usage: 1.1+ MB\n"
          ],
          "name": "stdout"
        }
      ]
    },
    {
      "cell_type": "markdown",
      "metadata": {
        "colab_type": "text",
        "id": "PHwti0yeAG5e"
      },
      "source": [
        "## Exploratory Analysis\n",
        "\n",
        "\n",
        "\n",
        "\n",
        "\n",
        "\n"
      ]
    },
    {
      "cell_type": "markdown",
      "metadata": {
        "id": "cxvQBKgNWHAA",
        "colab_type": "text"
      },
      "source": [
        "### Checking missing values\n",
        "\n",
        "Before checking the missing values, we are going to replace all the blank spaces ocurreces that this dataset might have."
      ]
    },
    {
      "cell_type": "code",
      "metadata": {
        "id": "-vFlkBLVY7Tv",
        "colab_type": "code",
        "colab": {
          "base_uri": "https://localhost:8080/",
          "height": 443
        },
        "outputId": "f688425a-4e65-4073-bb46-cd1dcb5b4ac5"
      },
      "source": [
        "# replacing all the blank values with NaN \n",
        "df_clean = df.replace(r'^\\s*$', np.nan, regex=True)\n",
        "\n",
        "# print missing values\n",
        "print(\"Missing values (per feature): \\n{}\\n\".format(df_clean.isnull().sum()))"
      ],
      "execution_count": 247,
      "outputs": [
        {
          "output_type": "stream",
          "text": [
            "Missing values (per feature): \n",
            "customerID           0\n",
            "gender               0\n",
            "SeniorCitizen        0\n",
            "Partner              0\n",
            "Dependents           0\n",
            "tenure               0\n",
            "PhoneService         0\n",
            "MultipleLines        0\n",
            "InternetService      0\n",
            "OnlineSecurity       0\n",
            "OnlineBackup         0\n",
            "DeviceProtection     0\n",
            "TechSupport          0\n",
            "StreamingTV          0\n",
            "StreamingMovies      0\n",
            "Contract             0\n",
            "PaperlessBilling     0\n",
            "PaymentMethod        0\n",
            "MonthlyCharges       0\n",
            "TotalCharges        11\n",
            "Churn                0\n",
            "dtype: int64\n",
            "\n"
          ],
          "name": "stdout"
        }
      ]
    },
    {
      "cell_type": "markdown",
      "metadata": {
        "id": "X0pYDjyecghg",
        "colab_type": "text"
      },
      "source": [
        "After that we can see that feature `TotalCharges` has 11 missing values. We are going to replace these missing values by the `TotalCharges` median."
      ]
    },
    {
      "cell_type": "code",
      "metadata": {
        "id": "KCQvJz9RcsxW",
        "colab_type": "code",
        "colab": {}
      },
      "source": [
        "total_charges_median = df_clean.TotalCharges.median()\n",
        "df_clean['TotalCharges'].fillna(total_charges_median, inplace=True)"
      ],
      "execution_count": 248,
      "outputs": []
    },
    {
      "cell_type": "markdown",
      "metadata": {
        "colab_type": "text",
        "id": "Ih9vIdPKWQiK"
      },
      "source": [
        "### Converting data types\n",
        "\n",
        "While importing dataset, Pandas read the column `TotalCharges` as object because it had some entries populated with blank spaces instead of `NaN` value. For the analysis we will convert datatype of this feature from `object` to `float64`."
      ]
    },
    {
      "cell_type": "code",
      "metadata": {
        "id": "SOZViZfZenHb",
        "colab_type": "code",
        "colab": {}
      },
      "source": [
        "df_clean['TotalCharges'] = df_clean['TotalCharges'].apply(pd.to_numeric)"
      ],
      "execution_count": 249,
      "outputs": []
    },
    {
      "cell_type": "markdown",
      "metadata": {
        "colab_type": "text",
        "id": "ozc-ENjbekcn"
      },
      "source": [
        "### Unique values per feature\n",
        "\n",
        "By checking feature's unique values we can see that the column `customerID` have unique identifiers for each customer, which confirms that each row represents a single customer. This feature does not contribute for this analysis, therefore we are going to drop the column."
      ]
    },
    {
      "cell_type": "code",
      "metadata": {
        "id": "6G4utxdqWZLP",
        "colab_type": "code",
        "colab": {
          "base_uri": "https://localhost:8080/",
          "height": 443
        },
        "outputId": "a1848b75-7730-4109-c25d-bbbe10eec15a"
      },
      "source": [
        "print(\"Unique values (per feature): \\n{}\\n\".format(df.nunique()))"
      ],
      "execution_count": 250,
      "outputs": [
        {
          "output_type": "stream",
          "text": [
            "Unique values (per feature): \n",
            "customerID          7043\n",
            "gender                 2\n",
            "SeniorCitizen          2\n",
            "Partner                2\n",
            "Dependents             2\n",
            "tenure                73\n",
            "PhoneService           2\n",
            "MultipleLines          3\n",
            "InternetService        3\n",
            "OnlineSecurity         3\n",
            "OnlineBackup           3\n",
            "DeviceProtection       3\n",
            "TechSupport            3\n",
            "StreamingTV            3\n",
            "StreamingMovies        3\n",
            "Contract               3\n",
            "PaperlessBilling       2\n",
            "PaymentMethod          4\n",
            "MonthlyCharges      1585\n",
            "TotalCharges        6531\n",
            "Churn                  2\n",
            "dtype: int64\n",
            "\n"
          ],
          "name": "stdout"
        }
      ]
    },
    {
      "cell_type": "code",
      "metadata": {
        "id": "KyQUDNZwd2x7",
        "colab_type": "code",
        "colab": {}
      },
      "source": [
        "df_clean = df_clean.drop('customerID', axis=1)"
      ],
      "execution_count": 251,
      "outputs": []
    },
    {
      "cell_type": "markdown",
      "metadata": {
        "colab_type": "text",
        "id": "Zh-8q4b2AG5g"
      },
      "source": [
        "### *Descriptive statistics*"
      ]
    },
    {
      "cell_type": "code",
      "metadata": {
        "id": "jVx9meyzdmEC",
        "colab_type": "code",
        "colab": {
          "base_uri": "https://localhost:8080/",
          "height": 287
        },
        "outputId": "c726a203-fcac-443d-8370-9b677dc62312"
      },
      "source": [
        "df_clean.describe()"
      ],
      "execution_count": 252,
      "outputs": [
        {
          "output_type": "execute_result",
          "data": {
            "text/html": [
              "<div>\n",
              "<style scoped>\n",
              "    .dataframe tbody tr th:only-of-type {\n",
              "        vertical-align: middle;\n",
              "    }\n",
              "\n",
              "    .dataframe tbody tr th {\n",
              "        vertical-align: top;\n",
              "    }\n",
              "\n",
              "    .dataframe thead th {\n",
              "        text-align: right;\n",
              "    }\n",
              "</style>\n",
              "<table border=\"1\" class=\"dataframe\">\n",
              "  <thead>\n",
              "    <tr style=\"text-align: right;\">\n",
              "      <th></th>\n",
              "      <th>SeniorCitizen</th>\n",
              "      <th>tenure</th>\n",
              "      <th>MonthlyCharges</th>\n",
              "      <th>TotalCharges</th>\n",
              "    </tr>\n",
              "  </thead>\n",
              "  <tbody>\n",
              "    <tr>\n",
              "      <th>count</th>\n",
              "      <td>7043.000000</td>\n",
              "      <td>7043.000000</td>\n",
              "      <td>7043.000000</td>\n",
              "      <td>7043.000000</td>\n",
              "    </tr>\n",
              "    <tr>\n",
              "      <th>mean</th>\n",
              "      <td>0.162147</td>\n",
              "      <td>32.371149</td>\n",
              "      <td>64.761692</td>\n",
              "      <td>2281.916928</td>\n",
              "    </tr>\n",
              "    <tr>\n",
              "      <th>std</th>\n",
              "      <td>0.368612</td>\n",
              "      <td>24.559481</td>\n",
              "      <td>30.090047</td>\n",
              "      <td>2265.270398</td>\n",
              "    </tr>\n",
              "    <tr>\n",
              "      <th>min</th>\n",
              "      <td>0.000000</td>\n",
              "      <td>0.000000</td>\n",
              "      <td>18.250000</td>\n",
              "      <td>18.800000</td>\n",
              "    </tr>\n",
              "    <tr>\n",
              "      <th>25%</th>\n",
              "      <td>0.000000</td>\n",
              "      <td>9.000000</td>\n",
              "      <td>35.500000</td>\n",
              "      <td>402.225000</td>\n",
              "    </tr>\n",
              "    <tr>\n",
              "      <th>50%</th>\n",
              "      <td>0.000000</td>\n",
              "      <td>29.000000</td>\n",
              "      <td>70.350000</td>\n",
              "      <td>1397.475000</td>\n",
              "    </tr>\n",
              "    <tr>\n",
              "      <th>75%</th>\n",
              "      <td>0.000000</td>\n",
              "      <td>55.000000</td>\n",
              "      <td>89.850000</td>\n",
              "      <td>3786.600000</td>\n",
              "    </tr>\n",
              "    <tr>\n",
              "      <th>max</th>\n",
              "      <td>1.000000</td>\n",
              "      <td>72.000000</td>\n",
              "      <td>118.750000</td>\n",
              "      <td>8684.800000</td>\n",
              "    </tr>\n",
              "  </tbody>\n",
              "</table>\n",
              "</div>"
            ],
            "text/plain": [
              "       SeniorCitizen       tenure  MonthlyCharges  TotalCharges\n",
              "count    7043.000000  7043.000000     7043.000000   7043.000000\n",
              "mean        0.162147    32.371149       64.761692   2281.916928\n",
              "std         0.368612    24.559481       30.090047   2265.270398\n",
              "min         0.000000     0.000000       18.250000     18.800000\n",
              "25%         0.000000     9.000000       35.500000    402.225000\n",
              "50%         0.000000    29.000000       70.350000   1397.475000\n",
              "75%         0.000000    55.000000       89.850000   3786.600000\n",
              "max         1.000000    72.000000      118.750000   8684.800000"
            ]
          },
          "metadata": {
            "tags": []
          },
          "execution_count": 252
        }
      ]
    },
    {
      "cell_type": "code",
      "metadata": {
        "id": "8_3d9vcVds0y",
        "colab_type": "code",
        "colab": {
          "base_uri": "https://localhost:8080/",
          "height": 368
        },
        "outputId": "c169d4e5-b770-45ba-ca3c-4ed6f1a50773"
      },
      "source": [
        "fig, ax = plt.subplots(ncols=1, nrows=2, figsize=(8,5))\n",
        "\n",
        "sns.boxplot(df_clean['MonthlyCharges'], ax=ax[0])\n",
        "sns.boxplot(df_clean['TotalCharges'], ax=ax[1])\n",
        "\n",
        "plt.tight_layout()"
      ],
      "execution_count": 253,
      "outputs": [
        {
          "output_type": "display_data",
          "data": {
            "image/png": "[encoded data removed]",
            "text/plain": [
              "<Figure size 576x360 with 2 Axes>"
            ]
          },
          "metadata": {
            "tags": []
          }
        }
      ]
    },
    {
      "cell_type": "markdown",
      "metadata": {
        "colab_type": "text",
        "id": "bcBQOUJznImg"
      },
      "source": [
        "### *Dataset features and their values*\n",
        "\n",
        "This is a very important information to help us to undesrstand the dataset will be working with. Few observations:\n",
        "\n",
        "\n",
        "*   Feature `SeniorCitizen` is binary, entries have value 1 for **Yes** and 0 for **No**\n",
        "*   Feature `Tenure` has the max value in 72, which can indicate that this service provider has maximum of 6 years\n",
        "*   The only features that are not categorical are `Monthly Charges` and `TotalCharges`, all the remaining are categorical kinds\n",
        "\n"
      ]
    },
    {
      "cell_type": "code",
      "metadata": {
        "id": "tjZJQjYMnXsm",
        "colab_type": "code",
        "colab": {
          "base_uri": "https://localhost:8080/",
          "height": 798
        },
        "outputId": "7e75c705-f596-469b-96d1-c319025f08bb"
      },
      "source": [
        "features_obj = df_clean.columns\n",
        "\n",
        "for f in features_obj:\n",
        "  print(f)\n",
        "  print(np.unique(df_clean[f].values))"
      ],
      "execution_count": 254,
      "outputs": [
        {
          "output_type": "stream",
          "text": [
            "gender\n",
            "['Female' 'Male']\n",
            "SeniorCitizen\n",
            "[0 1]\n",
            "Partner\n",
            "['No' 'Yes']\n",
            "Dependents\n",
            "['No' 'Yes']\n",
            "tenure\n",
            "[ 0  1  2  3  4  5  6  7  8  9 10 11 12 13 14 15 16 17 18 19 20 21 22 23\n",
            " 24 25 26 27 28 29 30 31 32 33 34 35 36 37 38 39 40 41 42 43 44 45 46 47\n",
            " 48 49 50 51 52 53 54 55 56 57 58 59 60 61 62 63 64 65 66 67 68 69 70 71\n",
            " 72]\n",
            "PhoneService\n",
            "['No' 'Yes']\n",
            "MultipleLines\n",
            "['No' 'No phone service' 'Yes']\n",
            "InternetService\n",
            "['DSL' 'Fiber optic' 'No']\n",
            "OnlineSecurity\n",
            "['No' 'No internet service' 'Yes']\n",
            "OnlineBackup\n",
            "['No' 'No internet service' 'Yes']\n",
            "DeviceProtection\n",
            "['No' 'No internet service' 'Yes']\n",
            "TechSupport\n",
            "['No' 'No internet service' 'Yes']\n",
            "StreamingTV\n",
            "['No' 'No internet service' 'Yes']\n",
            "StreamingMovies\n",
            "['No' 'No internet service' 'Yes']\n",
            "Contract\n",
            "['Month-to-month' 'One year' 'Two year']\n",
            "PaperlessBilling\n",
            "['No' 'Yes']\n",
            "PaymentMethod\n",
            "['Bank transfer (automatic)' 'Credit card (automatic)' 'Electronic check'\n",
            " 'Mailed check']\n",
            "MonthlyCharges\n",
            "[ 18.25  18.4   18.55 ... 118.6  118.65 118.75]\n",
            "TotalCharges\n",
            "[  18.8    18.85   18.9  ... 8670.1  8672.45 8684.8 ]\n",
            "Churn\n",
            "['No' 'Yes']\n"
          ],
          "name": "stdout"
        }
      ]
    },
    {
      "cell_type": "markdown",
      "metadata": {
        "colab_type": "text",
        "id": "-Xdm42204Rev"
      },
      "source": [
        "### *Customer lifespan*"
      ]
    },
    {
      "cell_type": "markdown",
      "metadata": {
        "id": "BDttjTemGQxL",
        "colab_type": "text"
      },
      "source": [
        "#### *Helper Functions*"
      ]
    },
    {
      "cell_type": "code",
      "metadata": {
        "id": "aFAZhYRpGWFX",
        "colab_type": "code",
        "colab": {}
      },
      "source": [
        "def display_percent(plot, feature, total):\n",
        "    for p in ax.patches:\n",
        "        percentage = '{:.1f}%'.format(100 * p.get_height() / total)\n",
        "        x = p.get_x() + p.get_width() / 2\n",
        "        y = p.get_y() + p.get_height()\n",
        "        ax.annotate(percentage, (x, y), size = 10, ha=\"center\")\n",
        "    plt.show()"
      ],
      "execution_count": 255,
      "outputs": []
    },
    {
      "cell_type": "markdown",
      "metadata": {
        "id": "GSFvfNqMbJy5",
        "colab_type": "text"
      },
      "source": [
        "#### *a) How long is the customer lifespan until subscription cancellation?*\n",
        "\n",
        "- The majority of churn rate is observed on the subscription first month, totalling 20,3% of subscribers leave on the first month\n",
        "- Most of the subscribers leave on the first 3 months, totalling 31.9% of the total churn\n"
      ]
    },
    {
      "cell_type": "code",
      "metadata": {
        "id": "oExNVa9wVcOI",
        "colab_type": "code",
        "colab": {
          "base_uri": "https://localhost:8080/",
          "height": 340
        },
        "outputId": "8d7d57d6-df9c-4e14-fafb-6ca817f1cf05"
      },
      "source": [
        "p = sns.color_palette(\"coolwarm\", 10)\n",
        "p.reverse()\n",
        "\n",
        "df_top_churn = pd.DataFrame(df_clean[df_clean['Churn'] == 'Yes']['tenure'].value_counts().sort_values(ascending=False))\n",
        "total_churn = df_clean[df_clean['Churn'] == 'Yes'].shape[0]\n",
        "\n",
        "fig, ax = plt.subplots(figsize=(10,5))\n",
        "sns_lifespan = sns.barplot( x = df_top_churn[:10].index, y = df_top_churn[:10].tenure, ax=ax, palette=p, order=df_top_churn[:10].index)\n",
        "plt.xticks(size=12)\n",
        "plt.xlabel('Customer Lifespan (in months)', size=12)\n",
        "plt.yticks(size=12)\n",
        "plt.ylabel('Churn', size=12)\n",
        "plt.tick_params(labelleft=False)\n",
        "\n",
        "display_percent(ax, df_top_churn, total_churn)\n",
        "\n",
        "sns_lifespan.figure.savefig(\"churn_rate_tenure.png\", dpi=600)"
      ],
      "execution_count": 256,
      "outputs": [
        {
          "output_type": "display_data",
          "data": {
            "image/png": "[encoded data removed]",
            "text/plain": [
              "<Figure size 720x360 with 1 Axes>"
            ]
          },
          "metadata": {
            "tags": []
          }
        }
      ]
    },
    {
      "cell_type": "markdown",
      "metadata": {
        "id": "ehNkKBE8bEoK",
        "colab_type": "text"
      },
      "source": [
        "#### *b) How long the subscribers stays (to be removed)*"
      ]
    },
    {
      "cell_type": "code",
      "metadata": {
        "id": "zlJeIR7nkL5c",
        "colab_type": "code",
        "colab": {
          "base_uri": "https://localhost:8080/",
          "height": 588
        },
        "outputId": "51bd0ac3-7344-420b-9b07-735959871b4b"
      },
      "source": [
        "df_top_retention = pd.DataFrame(df_clean[df_clean['Churn'] == 'No']['tenure'].value_counts().sort_values(ascending=False))\n",
        "print(df_top_retention)\n",
        "total_retention= df_clean[df_clean['Churn'] == 'No'].shape[0]\n",
        "\n",
        "fig, ax = plt.subplots(figsize=(10,5))\n",
        "sns.barplot( x = df_top_retention[:10].index, y = df_top_retention[:10].tenure, ax=ax,palette=palette, order=df_top_retention[:10].index)\n",
        "plt.xticks(size=12)\n",
        "plt.xlabel('Life Time Period (in months)', size=12)\n",
        "plt.yticks(size=12)\n",
        "plt.ylabel('Retention', size=12)\n",
        "\n",
        "\n",
        "display_percent(ax, df_top_retention, total_retention)"
      ],
      "execution_count": 257,
      "outputs": [
        {
          "output_type": "stream",
          "text": [
            "    tenure\n",
            "72     356\n",
            "1      233\n",
            "71     164\n",
            "2      115\n",
            "70     108\n",
            "..     ...\n",
            "28      45\n",
            "44      45\n",
            "39      42\n",
            "36      40\n",
            "0       11\n",
            "\n",
            "[73 rows x 1 columns]\n"
          ],
          "name": "stdout"
        },
        {
          "output_type": "display_data",
          "data": {
            "image/png": "[encoded data removed]",
            "text/plain": [
              "<Figure size 720x360 with 1 Axes>"
            ]
          },
          "metadata": {
            "tags": []
          }
        }
      ]
    },
    {
      "cell_type": "markdown",
      "metadata": {
        "id": "1VqJapgIx5oT",
        "colab_type": "text"
      },
      "source": [
        "### *Understanding the profile of churn customers*"
      ]
    },
    {
      "cell_type": "markdown",
      "metadata": {
        "id": "MT6s0wq7kiV-",
        "colab_type": "text"
      },
      "source": [
        "#### *Helper Functions*"
      ]
    },
    {
      "cell_type": "code",
      "metadata": {
        "id": "jt--b-oJ4Unx",
        "colab_type": "code",
        "colab": {}
      },
      "source": [
        "# helper funtion - display count plot\n",
        "def displayCountPlot(cat_list, df, rows=1, columns=3, figsize=(14,2.5), export=False):\n",
        "  \n",
        "  \"\"\"\n",
        "    Display countplot based on a set of features\n",
        "\n",
        "    # Arguments\n",
        "      cat_list: array, List of features\n",
        "      df: DataFrame, dataset\n",
        "      rows: int, number of rows\n",
        "      columns: int, number of columns\n",
        "      figsize: figure size, e.g (10, 5)\n",
        "\n",
        "  \"\"\"\n",
        "\n",
        "  fig, ax = plt.subplots(ncols=columns, figsize=figsize)\n",
        "  \n",
        "  idx = 0\n",
        "  for c in cat_list:\n",
        "    idx += 1\n",
        "    plt.subplot(rows, columns, idx)\n",
        "    ax = sns.countplot(x=df[c], data=df, palette=palette)\n",
        "\n",
        "    plt.xticks(size=12)\n",
        "    plt.xlabel('', size=12)\n",
        "    plt.yticks(size=12)\n",
        "    plt.ylabel('')\n",
        "    ax.tick_params(labelleft=False)\n",
        "    ax.set_title(c, alpha=0.8)\n",
        "\n",
        "    \"\"\"for p in ax.patches:\n",
        "        text = '{:.1f}% ({})'.format(100 * p.get_height() / df.shape[0], p.get_height())\n",
        "        x = p.get_x() + p.get_width() / 2\n",
        "        y = p.get_y() + p.get_height() * 0.5\n",
        "        ax.annotate(text, (x, y), size = 10, ha=\"center\", va=\"center\")\"\"\"\n",
        "\n",
        "    print_rate(ax)\n",
        "\n",
        "  if export :\n",
        "    save_img(fig, ax)\n",
        "\n",
        "  plt.tight_layout()\n",
        "  plt.show()\n",
        "\n",
        "def print_rate(ax):\n",
        "  for p in ax.patches:\n",
        "    text = '{:.1f}% ({})'.format(100 * p.get_height() / df.shape[0], p.get_height())\n",
        "    x = p.get_x() + p.get_width() / 2\n",
        "    y = p.get_y() + p.get_height() * 0.5\n",
        "    ax.annotate(text, (x, y), size = 10, ha=\"center\", va=\"center\")\n",
        "\n",
        "def save_img(fig, ax):\n",
        "  fig.savefig(ax.get_title(), dpi=600)"
      ],
      "execution_count": 258,
      "outputs": []
    },
    {
      "cell_type": "code",
      "metadata": {
        "id": "yH7d5a6tQqbq",
        "colab_type": "code",
        "colab": {}
      },
      "source": [
        "df_churn = df_clean[df_clean['Churn'] == 'Yes']\n",
        "df_churn = df_churn.drop('Churn', axis=1)\n",
        "\n",
        "df_churn.loc[df_churn['SeniorCitizen'] == 0,'SeniorCitizen'] = 'No' \n",
        "df_churn.loc[df_churn['SeniorCitizen'] == 1,'SeniorCitizen'] = 'Yes'\n",
        "\n",
        "personal_attributes = ['gender', 'SeniorCitizen', 'Partner', 'Dependents']\n",
        "services_attributes = ['PhoneService', 'MultipleLines', 'InternetService', 'OnlineSecurity',\n",
        "                          'OnlineBackup', 'DeviceProtection', 'TechSupport', 'StreamingTV',\n",
        "                          'StreamingMovies']\n",
        "contract_attributes = ['Contract', 'PaperlessBilling', 'PaymentMethod']"
      ],
      "execution_count": 259,
      "outputs": []
    },
    {
      "cell_type": "markdown",
      "metadata": {
        "id": "mm_HUjzJOVPd",
        "colab_type": "text"
      },
      "source": [
        "#### *a) In terms of personal attibutes*\n",
        "\n",
        "Let's review which personal charactiristic contributes mostly for the cancellation decision. From the available dataset those are:\n",
        "\n",
        "*   `Gender`\n",
        "*   `SeniorCitizen`\n",
        "*   `Partner`\n",
        "*   `Dependents`\n",
        "\n",
        "\n"
      ]
    },
    {
      "cell_type": "code",
      "metadata": {
        "id": "FlhppqwMOydC",
        "colab_type": "code",
        "colab": {
          "base_uri": "https://localhost:8080/",
          "height": 188
        },
        "outputId": "dcc9088e-bb5d-46ba-8502-0b6c01a089ea"
      },
      "source": [
        "displayCountPlot(personal_attributes, df_churn, rows=1, columns=4)"
      ],
      "execution_count": 260,
      "outputs": [
        {
          "output_type": "display_data",
          "data": {
            "image/png": "[encoded data removed]",
            "text/plain": [
              "<Figure size 1008x180 with 4 Axes>"
            ]
          },
          "metadata": {
            "tags": []
          }
        }
      ]
    },
    {
      "cell_type": "markdown",
      "metadata": {
        "colab_type": "text",
        "id": "Va2vc96v83mo"
      },
      "source": [
        "#### *b) In terms of services*\n",
        "\n",
        "Let's review which personal charactiristic contributes mostly for the cancellation decision. From the available dataset those are:\n",
        "\n",
        "*\t`PhoneService`\n",
        "*\t`MultipleLines`\n",
        "*\t`InternetService`\n",
        "*\t`OnlineSecurity`\n",
        "*\t`OnlineBackup`\n",
        "*\t`DeviceProtection`\n",
        "*\t`TechSupport`\n",
        "*\t`StreamingTV`\n",
        "*\t`StreamingMovies`\n",
        "\n",
        "\n"
      ]
    },
    {
      "cell_type": "code",
      "metadata": {
        "id": "cOfJQyhc_dgp",
        "colab_type": "code",
        "colab": {
          "base_uri": "https://localhost:8080/",
          "height": 584
        },
        "outputId": "5ea2bced-e32c-4e8b-ecec-4a7bd37513d6"
      },
      "source": [
        "displayCountPlot(services_attributes, df_churn, rows=3, columns=3, figsize=(14,8))"
      ],
      "execution_count": 261,
      "outputs": [
        {
          "output_type": "display_data",
          "data": {
            "image/png": "[encoded data removed]",
            "text/plain": [
              "<Figure size 1008x576 with 9 Axes>"
            ]
          },
          "metadata": {
            "tags": []
          }
        }
      ]
    },
    {
      "cell_type": "markdown",
      "metadata": {
        "colab_type": "text",
        "id": "xCV9MKXU9ETp"
      },
      "source": [
        "#### *c) In terms of contract aspects*\n",
        "\n",
        "Let's review which personal charactiristic contributes mostly for the cancellation decision. From the available dataset those are:\n",
        "\n",
        "*\t`Contract`\n",
        "*\t`PaperlessBilling`\n",
        "*\t`PaymentMethod`\n",
        "\n",
        "\n"
      ]
    },
    {
      "cell_type": "code",
      "metadata": {
        "id": "GjBEFiYzA3c8",
        "colab_type": "code",
        "colab": {
          "base_uri": "https://localhost:8080/",
          "height": 321
        },
        "outputId": "8f16abed-fbe9-4acf-d710-8824497e1dd5"
      },
      "source": [
        "displayCountPlot(contract_attributes, df_churn, rows=2, columns=3, figsize=(14,8))"
      ],
      "execution_count": 262,
      "outputs": [
        {
          "output_type": "display_data",
          "data": {
            "image/png": "[encoded data removed]",
            "text/plain": [
              "<Figure size 1008x576 with 3 Axes>"
            ]
          },
          "metadata": {
            "tags": []
          }
        }
      ]
    },
    {
      "cell_type": "markdown",
      "metadata": {
        "colab_type": "text",
        "id": "f0pJ90YDAG5h"
      },
      "source": [
        "### *Imbalanced data*\n",
        "\n",
        "Column `Churn` is the target vector to be used to train the ML models. The class `No` have much more entries then class `Yes`, which demonstrates that the dataset is highly imbalanced. Ideally the dataset should be balanced to avoid models overfitting."
      ]
    },
    {
      "cell_type": "code",
      "metadata": {
        "id": "DMgEoS0fom4I",
        "colab_type": "code",
        "colab": {
          "base_uri": "https://localhost:8080/",
          "height": 283
        },
        "outputId": "bfc056ca-4633-43c1-be71-ed1e1d05a953"
      },
      "source": [
        "print(df_clean[df_clean['Churn'] == 'No'].shape[0])\n",
        "print(df_clean[df_clean['Churn'] == 'Yes'].shape[0])\n",
        "\n",
        "\"\"\"fig, ax = plt.subplots()\n",
        "sns.countplot(df_clean['Churn'], palette=palette)\n",
        "\n",
        "plt.xticks(size=12)\n",
        "plt.xlabel('Churn', size=12)\n",
        "plt.yticks(size=12)\n",
        "plt.ylabel('# Customers', size=12)\"\"\"\n",
        "\n",
        "displayCountPlot(['Churn'], df_clean, rows=1, columns=1, figsize=(5,3), export=True)"
      ],
      "execution_count": 263,
      "outputs": [
        {
          "output_type": "stream",
          "text": [
            "5174\n",
            "1869\n"
          ],
          "name": "stdout"
        },
        {
          "output_type": "stream",
          "text": [
            "/usr/local/lib/python3.6/dist-packages/ipykernel_launcher.py:42: UserWarning: Tight layout not applied. The left and right margins cannot be made large enough to accommodate all axes decorations. \n"
          ],
          "name": "stderr"
        },
        {
          "output_type": "display_data",
          "data": {
            "image/png": "[encoded data removed]",
            "text/plain": [
              "<Figure size 360x216 with 1 Axes>"
            ]
          },
          "metadata": {
            "tags": []
          }
        }
      ]
    },
    {
      "cell_type": "markdown",
      "metadata": {
        "colab_type": "text",
        "id": "JrFJspepWDJv"
      },
      "source": [
        "## Data Preparation\n",
        "\n",
        "\n",
        "\n",
        "\n",
        "\n",
        "\n"
      ]
    },
    {
      "cell_type": "markdown",
      "metadata": {
        "colab_type": "text",
        "id": "t0FJPBtAsg7E"
      },
      "source": [
        "### *Split features into binary, numeric or categorical*"
      ]
    },
    {
      "cell_type": "code",
      "metadata": {
        "id": "tIpA3ildqUP7",
        "colab_type": "code",
        "colab": {}
      },
      "source": [
        "binary_feat = df_clean.nunique()[df_clean.nunique() == 2].keys().tolist()\n",
        "numeric_feat = [col for col in df_clean.select_dtypes(['float','int']).columns.tolist() if col not in binary_feat]\n",
        "categorical_feat = [ col for col in df_clean.select_dtypes('object').columns.to_list() if col not in binary_feat + numeric_feat ]\n",
        "\n",
        "df_proc = df_clean.copy()"
      ],
      "execution_count": 264,
      "outputs": []
    },
    {
      "cell_type": "markdown",
      "metadata": {
        "colab_type": "text",
        "id": "tdQl0Xg0AG5h"
      },
      "source": [
        "### *Features encoding*"
      ]
    },
    {
      "cell_type": "markdown",
      "metadata": {
        "colab_type": "text",
        "id": "ADKNEZHuuHGv"
      },
      "source": [
        "#### *a) Apply label encoding for binary features*"
      ]
    },
    {
      "cell_type": "code",
      "metadata": {
        "id": "9BGcMU4Ns1c5",
        "colab_type": "code",
        "colab": {
          "base_uri": "https://localhost:8080/",
          "height": 265
        },
        "outputId": "6db54755-b943-41a6-c8ee-9affe7c7a800"
      },
      "source": [
        "le = LabelEncoder()\n",
        "for i in binary_feat:\n",
        "  df_proc[i] = le.fit_transform(df_proc[i])\n",
        "  print(i, '\\n', np.unique(df_proc[f].values))"
      ],
      "execution_count": 265,
      "outputs": [
        {
          "output_type": "stream",
          "text": [
            "gender \n",
            " ['No' 'Yes']\n",
            "SeniorCitizen \n",
            " ['No' 'Yes']\n",
            "Partner \n",
            " ['No' 'Yes']\n",
            "Dependents \n",
            " ['No' 'Yes']\n",
            "PhoneService \n",
            " ['No' 'Yes']\n",
            "PaperlessBilling \n",
            " ['No' 'Yes']\n",
            "Churn \n",
            " [0 1]\n"
          ],
          "name": "stdout"
        }
      ]
    },
    {
      "cell_type": "markdown",
      "metadata": {
        "colab_type": "text",
        "id": "hUz3W_HWshC5"
      },
      "source": [
        "#### *b) Convert categorical variable into dummy variables*"
      ]
    },
    {
      "cell_type": "code",
      "metadata": {
        "id": "Tsqq8xBqs2Hp",
        "colab_type": "code",
        "colab": {
          "base_uri": "https://localhost:8080/",
          "height": 354
        },
        "outputId": "aaa2d25e-6660-41af-c623-abc99733c677"
      },
      "source": [
        "print(categorical_feat)\n",
        "df_proc = pd.get_dummies(df_proc, columns=categorical_feat)\n",
        "print(df_proc.columns)"
      ],
      "execution_count": 266,
      "outputs": [
        {
          "output_type": "stream",
          "text": [
            "['MultipleLines', 'InternetService', 'OnlineSecurity', 'OnlineBackup', 'DeviceProtection', 'TechSupport', 'StreamingTV', 'StreamingMovies', 'Contract', 'PaymentMethod']\n",
            "Index(['gender', 'SeniorCitizen', 'Partner', 'Dependents', 'tenure',\n",
            "       'PhoneService', 'PaperlessBilling', 'MonthlyCharges', 'TotalCharges',\n",
            "       'Churn', 'MultipleLines_No', 'MultipleLines_No phone service',\n",
            "       'MultipleLines_Yes', 'InternetService_DSL',\n",
            "       'InternetService_Fiber optic', 'InternetService_No',\n",
            "       'OnlineSecurity_No', 'OnlineSecurity_No internet service',\n",
            "       'OnlineSecurity_Yes', 'OnlineBackup_No',\n",
            "       'OnlineBackup_No internet service', 'OnlineBackup_Yes',\n",
            "       'DeviceProtection_No', 'DeviceProtection_No internet service',\n",
            "       'DeviceProtection_Yes', 'TechSupport_No',\n",
            "       'TechSupport_No internet service', 'TechSupport_Yes', 'StreamingTV_No',\n",
            "       'StreamingTV_No internet service', 'StreamingTV_Yes',\n",
            "       'StreamingMovies_No', 'StreamingMovies_No internet service',\n",
            "       'StreamingMovies_Yes', 'Contract_Month-to-month', 'Contract_One year',\n",
            "       'Contract_Two year', 'PaymentMethod_Bank transfer (automatic)',\n",
            "       'PaymentMethod_Credit card (automatic)',\n",
            "       'PaymentMethod_Electronic check', 'PaymentMethod_Mailed check'],\n",
            "      dtype='object')\n"
          ],
          "name": "stdout"
        }
      ]
    },
    {
      "cell_type": "markdown",
      "metadata": {
        "colab_type": "text",
        "id": "D89PwBZ4shFd"
      },
      "source": [
        "### *Processed dataset / Ready for ML training*"
      ]
    },
    {
      "cell_type": "code",
      "metadata": {
        "id": "YFnV9rdvupp9",
        "colab_type": "code",
        "colab": {
          "base_uri": "https://localhost:8080/",
          "height": 393
        },
        "outputId": "9b0bbcf2-b224-4f8b-861e-64b72438d9d0"
      },
      "source": [
        "get_df_size(df, header='Original dataset:')\n",
        "get_df_size(df_proc, header='Processed dataset:')\n",
        "\n",
        "df_proc.head()"
      ],
      "execution_count": 267,
      "outputs": [
        {
          "output_type": "stream",
          "text": [
            "Original dataset: \n",
            "# Attributes:  21 \n",
            "# Entries:  7043 \n",
            "\n",
            "Processed dataset: \n",
            "# Attributes:  41 \n",
            "# Entries:  7043 \n",
            "\n"
          ],
          "name": "stdout"
        },
        {
          "output_type": "execute_result",
          "data": {
            "text/html": [
              "<div>\n",
              "<style scoped>\n",
              "    .dataframe tbody tr th:only-of-type {\n",
              "        vertical-align: middle;\n",
              "    }\n",
              "\n",
              "    .dataframe tbody tr th {\n",
              "        vertical-align: top;\n",
              "    }\n",
              "\n",
              "    .dataframe thead th {\n",
              "        text-align: right;\n",
              "    }\n",
              "</style>\n",
              "<table border=\"1\" class=\"dataframe\">\n",
              "  <thead>\n",
              "    <tr style=\"text-align: right;\">\n",
              "      <th></th>\n",
              "      <th>gender</th>\n",
              "      <th>SeniorCitizen</th>\n",
              "      <th>Partner</th>\n",
              "      <th>Dependents</th>\n",
              "      <th>tenure</th>\n",
              "      <th>PhoneService</th>\n",
              "      <th>PaperlessBilling</th>\n",
              "      <th>MonthlyCharges</th>\n",
              "      <th>TotalCharges</th>\n",
              "      <th>Churn</th>\n",
              "      <th>MultipleLines_No</th>\n",
              "      <th>MultipleLines_No phone service</th>\n",
              "      <th>MultipleLines_Yes</th>\n",
              "      <th>InternetService_DSL</th>\n",
              "      <th>InternetService_Fiber optic</th>\n",
              "      <th>InternetService_No</th>\n",
              "      <th>OnlineSecurity_No</th>\n",
              "      <th>OnlineSecurity_No internet service</th>\n",
              "      <th>OnlineSecurity_Yes</th>\n",
              "      <th>OnlineBackup_No</th>\n",
              "      <th>OnlineBackup_No internet service</th>\n",
              "      <th>OnlineBackup_Yes</th>\n",
              "      <th>DeviceProtection_No</th>\n",
              "      <th>DeviceProtection_No internet service</th>\n",
              "      <th>DeviceProtection_Yes</th>\n",
              "      <th>TechSupport_No</th>\n",
              "      <th>TechSupport_No internet service</th>\n",
              "      <th>TechSupport_Yes</th>\n",
              "      <th>StreamingTV_No</th>\n",
              "      <th>StreamingTV_No internet service</th>\n",
              "      <th>StreamingTV_Yes</th>\n",
              "      <th>StreamingMovies_No</th>\n",
              "      <th>StreamingMovies_No internet service</th>\n",
              "      <th>StreamingMovies_Yes</th>\n",
              "      <th>Contract_Month-to-month</th>\n",
              "      <th>Contract_One year</th>\n",
              "      <th>Contract_Two year</th>\n",
              "      <th>PaymentMethod_Bank transfer (automatic)</th>\n",
              "      <th>PaymentMethod_Credit card (automatic)</th>\n",
              "      <th>PaymentMethod_Electronic check</th>\n",
              "      <th>PaymentMethod_Mailed check</th>\n",
              "    </tr>\n",
              "  </thead>\n",
              "  <tbody>\n",
              "    <tr>\n",
              "      <th>0</th>\n",
              "      <td>0</td>\n",
              "      <td>0</td>\n",
              "      <td>1</td>\n",
              "      <td>0</td>\n",
              "      <td>1</td>\n",
              "      <td>0</td>\n",
              "      <td>1</td>\n",
              "      <td>29.85</td>\n",
              "      <td>29.85</td>\n",
              "      <td>0</td>\n",
              "      <td>0</td>\n",
              "      <td>1</td>\n",
              "      <td>0</td>\n",
              "      <td>1</td>\n",
              "      <td>0</td>\n",
              "      <td>0</td>\n",
              "      <td>1</td>\n",
              "      <td>0</td>\n",
              "      <td>0</td>\n",
              "      <td>0</td>\n",
              "      <td>0</td>\n",
              "      <td>1</td>\n",
              "      <td>1</td>\n",
              "      <td>0</td>\n",
              "      <td>0</td>\n",
              "      <td>1</td>\n",
              "      <td>0</td>\n",
              "      <td>0</td>\n",
              "      <td>1</td>\n",
              "      <td>0</td>\n",
              "      <td>0</td>\n",
              "      <td>1</td>\n",
              "      <td>0</td>\n",
              "      <td>0</td>\n",
              "      <td>1</td>\n",
              "      <td>0</td>\n",
              "      <td>0</td>\n",
              "      <td>0</td>\n",
              "      <td>0</td>\n",
              "      <td>1</td>\n",
              "      <td>0</td>\n",
              "    </tr>\n",
              "    <tr>\n",
              "      <th>1</th>\n",
              "      <td>1</td>\n",
              "      <td>0</td>\n",
              "      <td>0</td>\n",
              "      <td>0</td>\n",
              "      <td>34</td>\n",
              "      <td>1</td>\n",
              "      <td>0</td>\n",
              "      <td>56.95</td>\n",
              "      <td>1889.50</td>\n",
              "      <td>0</td>\n",
              "      <td>1</td>\n",
              "      <td>0</td>\n",
              "      <td>0</td>\n",
              "      <td>1</td>\n",
              "      <td>0</td>\n",
              "      <td>0</td>\n",
              "      <td>0</td>\n",
              "      <td>0</td>\n",
              "      <td>1</td>\n",
              "      <td>1</td>\n",
              "      <td>0</td>\n",
              "      <td>0</td>\n",
              "      <td>0</td>\n",
              "      <td>0</td>\n",
              "      <td>1</td>\n",
              "      <td>1</td>\n",
              "      <td>0</td>\n",
              "      <td>0</td>\n",
              "      <td>1</td>\n",
              "      <td>0</td>\n",
              "      <td>0</td>\n",
              "      <td>1</td>\n",
              "      <td>0</td>\n",
              "      <td>0</td>\n",
              "      <td>0</td>\n",
              "      <td>1</td>\n",
              "      <td>0</td>\n",
              "      <td>0</td>\n",
              "      <td>0</td>\n",
              "      <td>0</td>\n",
              "      <td>1</td>\n",
              "    </tr>\n",
              "    <tr>\n",
              "      <th>2</th>\n",
              "      <td>1</td>\n",
              "      <td>0</td>\n",
              "      <td>0</td>\n",
              "      <td>0</td>\n",
              "      <td>2</td>\n",
              "      <td>1</td>\n",
              "      <td>1</td>\n",
              "      <td>53.85</td>\n",
              "      <td>108.15</td>\n",
              "      <td>1</td>\n",
              "      <td>1</td>\n",
              "      <td>0</td>\n",
              "      <td>0</td>\n",
              "      <td>1</td>\n",
              "      <td>0</td>\n",
              "      <td>0</td>\n",
              "      <td>0</td>\n",
              "      <td>0</td>\n",
              "      <td>1</td>\n",
              "      <td>0</td>\n",
              "      <td>0</td>\n",
              "      <td>1</td>\n",
              "      <td>1</td>\n",
              "      <td>0</td>\n",
              "      <td>0</td>\n",
              "      <td>1</td>\n",
              "      <td>0</td>\n",
              "      <td>0</td>\n",
              "      <td>1</td>\n",
              "      <td>0</td>\n",
              "      <td>0</td>\n",
              "      <td>1</td>\n",
              "      <td>0</td>\n",
              "      <td>0</td>\n",
              "      <td>1</td>\n",
              "      <td>0</td>\n",
              "      <td>0</td>\n",
              "      <td>0</td>\n",
              "      <td>0</td>\n",
              "      <td>0</td>\n",
              "      <td>1</td>\n",
              "    </tr>\n",
              "    <tr>\n",
              "      <th>3</th>\n",
              "      <td>1</td>\n",
              "      <td>0</td>\n",
              "      <td>0</td>\n",
              "      <td>0</td>\n",
              "      <td>45</td>\n",
              "      <td>0</td>\n",
              "      <td>0</td>\n",
              "      <td>42.30</td>\n",
              "      <td>1840.75</td>\n",
              "      <td>0</td>\n",
              "      <td>0</td>\n",
              "      <td>1</td>\n",
              "      <td>0</td>\n",
              "      <td>1</td>\n",
              "      <td>0</td>\n",
              "      <td>0</td>\n",
              "      <td>0</td>\n",
              "      <td>0</td>\n",
              "      <td>1</td>\n",
              "      <td>1</td>\n",
              "      <td>0</td>\n",
              "      <td>0</td>\n",
              "      <td>0</td>\n",
              "      <td>0</td>\n",
              "      <td>1</td>\n",
              "      <td>0</td>\n",
              "      <td>0</td>\n",
              "      <td>1</td>\n",
              "      <td>1</td>\n",
              "      <td>0</td>\n",
              "      <td>0</td>\n",
              "      <td>1</td>\n",
              "      <td>0</td>\n",
              "      <td>0</td>\n",
              "      <td>0</td>\n",
              "      <td>1</td>\n",
              "      <td>0</td>\n",
              "      <td>1</td>\n",
              "      <td>0</td>\n",
              "      <td>0</td>\n",
              "      <td>0</td>\n",
              "    </tr>\n",
              "    <tr>\n",
              "      <th>4</th>\n",
              "      <td>0</td>\n",
              "      <td>0</td>\n",
              "      <td>0</td>\n",
              "      <td>0</td>\n",
              "      <td>2</td>\n",
              "      <td>1</td>\n",
              "      <td>1</td>\n",
              "      <td>70.70</td>\n",
              "      <td>151.65</td>\n",
              "      <td>1</td>\n",
              "      <td>1</td>\n",
              "      <td>0</td>\n",
              "      <td>0</td>\n",
              "      <td>0</td>\n",
              "      <td>1</td>\n",
              "      <td>0</td>\n",
              "      <td>1</td>\n",
              "      <td>0</td>\n",
              "      <td>0</td>\n",
              "      <td>1</td>\n",
              "      <td>0</td>\n",
              "      <td>0</td>\n",
              "      <td>1</td>\n",
              "      <td>0</td>\n",
              "      <td>0</td>\n",
              "      <td>1</td>\n",
              "      <td>0</td>\n",
              "      <td>0</td>\n",
              "      <td>1</td>\n",
              "      <td>0</td>\n",
              "      <td>0</td>\n",
              "      <td>1</td>\n",
              "      <td>0</td>\n",
              "      <td>0</td>\n",
              "      <td>1</td>\n",
              "      <td>0</td>\n",
              "      <td>0</td>\n",
              "      <td>0</td>\n",
              "      <td>0</td>\n",
              "      <td>1</td>\n",
              "      <td>0</td>\n",
              "    </tr>\n",
              "  </tbody>\n",
              "</table>\n",
              "</div>"
            ],
            "text/plain": [
              "   gender  ...  PaymentMethod_Mailed check\n",
              "0       0  ...                           0\n",
              "1       1  ...                           1\n",
              "2       1  ...                           1\n",
              "3       1  ...                           0\n",
              "4       0  ...                           0\n",
              "\n",
              "[5 rows x 41 columns]"
            ]
          },
          "metadata": {
            "tags": []
          },
          "execution_count": 267
        }
      ]
    },
    {
      "cell_type": "markdown",
      "metadata": {
        "id": "K6O3SzEbhBTP",
        "colab_type": "text"
      },
      "source": [
        "### *Split train and test data*"
      ]
    },
    {
      "cell_type": "code",
      "metadata": {
        "id": "xcqRX5MK0zHy",
        "colab_type": "code",
        "colab": {}
      },
      "source": [
        "# split df_proc in feature matrix and target vector\n",
        "X=df_proc.drop('Churn', axis=1)\n",
        "y=df_proc['Churn']\n",
        "\n",
        "# split df_proc between train and test\n",
        "X_train, X_test, y_train, y_test = train_test_split(X, y)"
      ],
      "execution_count": 268,
      "outputs": []
    },
    {
      "cell_type": "markdown",
      "metadata": {
        "colab_type": "text",
        "id": "WS6tkPN6shIN"
      },
      "source": [
        "## Machine Learning Model"
      ]
    },
    {
      "cell_type": "markdown",
      "metadata": {
        "colab_type": "text",
        "id": "ZPUBN9BGshK5"
      },
      "source": [
        "### *Helper Functions*"
      ]
    },
    {
      "cell_type": "code",
      "metadata": {
        "id": "mKAaoe4m4jZX",
        "colab_type": "code",
        "colab": {}
      },
      "source": [
        "# cross-validation function\n",
        "def val_model(X, y, clf, quite=False):\n",
        "  \"\"\"\n",
        "    Make cross-validation for a given model\n",
        "\n",
        "    # Arguments\n",
        "      X: DataFrame, feature matrix\n",
        "      y: Series, target vector\n",
        "      clf: classifier from scikit-learn\n",
        "      quite: bool, indicate if funcion should print the results\n",
        "\n",
        "    # Returns\n",
        "      float, validation scores\n",
        "\n",
        "  \"\"\"\n",
        "\n",
        "  X = np.array(X)\n",
        "  y = np.array(y)\n",
        "\n",
        "  pipeline = make_pipeline(StandardScaler(), clf)\n",
        "  scores = cross_val_score(pipeline, X, y, cv=5, scoring='recall')\n",
        "\n",
        "  if quite == False:\n",
        "    print(\"##### \", clf.__class__.__name__, \" #####\")\n",
        "    print(\"scores:\", scores)\n",
        "    print(\"recall: {:.3f} (+/- {:.2f})\".format(scores.mean(), scores.std()))\n",
        "\n",
        "  return scores.mean()\n",
        "\n",
        "def getClfRecallScores(X_train, y_train, *clf_list):\n",
        "  \"\"\"\n",
        "  Provides recall score gor a given list of models\n",
        "\n",
        "  # Arguments\n",
        "    X_train: X_train\n",
        "    y_train: y_train\n",
        "    *clf_list: list of classifiers\n",
        "\n",
        "  # Returns\n",
        "    DataFrame, recall scores\n",
        "\n",
        "  \"\"\"\n",
        "\n",
        "  model_name = []\n",
        "  recall = []\n",
        "\n",
        "  for model in clf_list:\n",
        "    model_name.append(model.__class__.__name__)\n",
        "    recall.append(val_model(X_train, y_train, model))\n",
        "  \n",
        "  return pd.DataFrame(data=recall, index=model_name, columns=['Recall']).sort_values(by='Recall', ascending=False)"
      ],
      "execution_count": 269,
      "outputs": []
    },
    {
      "cell_type": "markdown",
      "metadata": {
        "colab_type": "text",
        "id": "L1dzetBB_h2-"
      },
      "source": [
        "### *Balancing the data*"
      ]
    },
    {
      "cell_type": "code",
      "metadata": {
        "id": "WL_1nk9KAJeu",
        "colab_type": "code",
        "colab": {
          "base_uri": "https://localhost:8080/",
          "height": 72
        },
        "outputId": "cf25f010-c3ab-4688-e51a-891363a1b105"
      },
      "source": [
        "# under sampling\n",
        "rus = RandomUnderSampler()\n",
        "X_train_rus, y_train_rus = rus.fit_sample(X_train, y_train)"
      ],
      "execution_count": 270,
      "outputs": [
        {
          "output_type": "stream",
          "text": [
            "/usr/local/lib/python3.6/dist-packages/sklearn/utils/deprecation.py:87: FutureWarning: Function safe_indexing is deprecated; safe_indexing is deprecated in version 0.22 and will be removed in version 0.24.\n",
            "  warnings.warn(msg, category=FutureWarning)\n"
          ],
          "name": "stderr"
        }
      ]
    },
    {
      "cell_type": "code",
      "metadata": {
        "id": "4z2jSWwjBlgg",
        "colab_type": "code",
        "colab": {
          "base_uri": "https://localhost:8080/",
          "height": 176
        },
        "outputId": "1e629f3f-cc53-4671-d9dc-2b397b36cd31"
      },
      "source": [
        "get_df_size(X_train, header='Before balancing:')\n",
        "get_df_size(X_train_rus, header='After balancing:')\n",
        "\n",
        "# make sure the number of classes are equal distibuted\n",
        "np.unique(y_train_rus, return_counts=True)"
      ],
      "execution_count": 281,
      "outputs": [
        {
          "output_type": "stream",
          "text": [
            "Before balancing: \n",
            "# Attributes:  40 \n",
            "# Entries:  5282 \n",
            "\n",
            "After balancing: \n",
            "# Attributes:  40 \n",
            "# Entries:  2854 \n",
            "\n"
          ],
          "name": "stdout"
        },
        {
          "output_type": "execute_result",
          "data": {
            "text/plain": [
              "(array([0, 1]), array([1427, 1427]))"
            ]
          },
          "metadata": {
            "tags": []
          },
          "execution_count": 281
        }
      ]
    },
    {
      "cell_type": "markdown",
      "metadata": {
        "colab_type": "text",
        "id": "7kxTfX2p-SZG"
      },
      "source": [
        "### *Standardizing the data*"
      ]
    },
    {
      "cell_type": "code",
      "metadata": {
        "id": "IurFZXJAyBv8",
        "colab_type": "code",
        "colab": {}
      },
      "source": [
        "# standardizing X_train and X_test\n",
        "scaler = StandardScaler()\n",
        "X_train = scaler.fit_transform(X_train)\n",
        "X_train_rus = scaler.fit_transform(X_train_rus)\n",
        "X_test = scaler.transform(X_test)"
      ],
      "execution_count": 271,
      "outputs": []
    },
    {
      "cell_type": "markdown",
      "metadata": {
        "colab_type": "text",
        "id": "E9EX1wK9QEwG"
      },
      "source": [
        "### *Create baseline using Cross Validation*"
      ]
    },
    {
      "cell_type": "code",
      "metadata": {
        "id": "Ny-WXKs-QUvE",
        "colab_type": "code",
        "colab": {
          "base_uri": "https://localhost:8080/",
          "height": 318
        },
        "outputId": "b1fb93ea-60a1-4edf-e5ee-4cb4d371a31e"
      },
      "source": [
        "from sklearn.svm import SVC\n",
        "from sklearn.tree import DecisionTreeClassifier\n",
        "from sklearn.linear_model import LogisticRegression\n",
        "from xgboost import XGBClassifier\n",
        "\n",
        "# instaciate models\n",
        "dt = DecisionTreeClassifier()\n",
        "svc = SVC()\n",
        "lr = LogisticRegression()\n",
        "xgb = XGBClassifier()\n",
        "\n",
        "df_scores = getClfRecallScores(X_train_rus, y_train_rus, dt, svc, lr, xgb)\n",
        "\n",
        "print(df_scores)"
      ],
      "execution_count": 273,
      "outputs": [
        {
          "output_type": "stream",
          "text": [
            "#####  DecisionTreeClassifier  #####\n",
            "scores: [0.7122807  0.7122807  0.68531469 0.70629371 0.66666667]\n",
            "recall: 0.697 (+/- 0.02)\n",
            "#####  SVC  #####\n",
            "scores: [0.79298246 0.8        0.76573427 0.82867133 0.8245614 ]\n",
            "recall: 0.802 (+/- 0.02)\n",
            "#####  LogisticRegression  #####\n",
            "scores: [0.81403509 0.80701754 0.77622378 0.83216783 0.81754386]\n",
            "recall: 0.809 (+/- 0.02)\n",
            "#####  XGBClassifier  #####\n",
            "scores: [0.78596491 0.79649123 0.77272727 0.82517483 0.80701754]\n",
            "recall: 0.797 (+/- 0.02)\n",
            "                          Recall\n",
            "LogisticRegression      0.809398\n",
            "SVC                     0.802390\n",
            "XGBClassifier           0.797475\n",
            "DecisionTreeClassifier  0.696567\n"
          ],
          "name": "stdout"
        }
      ]
    },
    {
      "cell_type": "markdown",
      "metadata": {
        "id": "Bxw_E64paIxs",
        "colab_type": "text"
      },
      "source": [
        "### *Tuning Models*\n",
        "\n",
        "As LogisticRegression and SVC performed better in terms of Recall metric, I'm going to use those to tune the hyperparameters and check if it can deliver even better results."
      ]
    },
    {
      "cell_type": "markdown",
      "metadata": {
        "id": "NxMgK_qX1ST-",
        "colab_type": "text"
      },
      "source": [
        "#### *Logistic Regression*\n",
        "\n",
        "I will be tunning `solver` and `C` in the Logistic Regression model. As can be seen below it presented a slight improvement after tuned, incresing Recall from **0.80** to **0.82**. \n"
      ]
    },
    {
      "cell_type": "code",
      "metadata": {
        "id": "9OLX-IMukuQ6",
        "colab_type": "code",
        "colab": {
          "base_uri": "https://localhost:8080/",
          "height": 34
        },
        "outputId": "1ec4e84c-c342-428f-e02c-4b4434c9e552"
      },
      "source": [
        "kfold = StratifiedKFold(n_splits=5, shuffle=True)\n",
        "\n",
        "lr = LogisticRegression()\n",
        "\n",
        "param_grid = {'solver': ['newton-cg', 'lbfgs', 'liblinear'],\n",
        "              'C': [0.001, 0.01, 1, 10, 100]}\n",
        "\n",
        "search = GridSearchCV(lr, param_grid, scoring='recall', cv=kfold)\n",
        "result = search.fit(X_train_rus, y_train_rus)\n",
        "\n",
        "print(f'Best recall: {result.best_score_} for {result.best_params_}')"
      ],
      "execution_count": 274,
      "outputs": [
        {
          "output_type": "stream",
          "text": [
            "Best recall: 0.8206011532327322 for {'C': 0.001, 'solver': 'newton-cg'}\n"
          ],
          "name": "stdout"
        }
      ]
    },
    {
      "cell_type": "code",
      "metadata": {
        "id": "pyfD0h2oxMiB",
        "colab_type": "code",
        "colab": {
          "base_uri": "https://localhost:8080/",
          "height": 176
        },
        "outputId": "cb4ba30f-f65d-43fc-acc0-5511e51b8655"
      },
      "source": [
        "model_lr = LogisticRegression(solver='newton-cg', C=0.001)\n",
        "model_lr.fit(X_train_rus, y_train_rus)\n",
        "y_pred_lr = model_lr.predict(X_test)\n",
        "\n",
        "print(classification_report(y_test, y_pred_lr))"
      ],
      "execution_count": 280,
      "outputs": [
        {
          "output_type": "stream",
          "text": [
            "              precision    recall  f1-score   support\n",
            "\n",
            "           0       0.92      0.70      0.80      1319\n",
            "           1       0.48      0.81      0.60       442\n",
            "\n",
            "    accuracy                           0.73      1761\n",
            "   macro avg       0.70      0.76      0.70      1761\n",
            "weighted avg       0.81      0.73      0.75      1761\n",
            "\n"
          ],
          "name": "stdout"
        }
      ]
    },
    {
      "cell_type": "markdown",
      "metadata": {
        "colab_type": "text",
        "id": "rPvgu8lLb4QR"
      },
      "source": [
        "#### *SVM Model*\n",
        "\n",
        "I will be tunning `kernel` and `C` in the SVM model. SVM had a great improvement in Recall after tunning, increasing Recall from **0.80** to **0.91.**, which is an excelent score."
      ]
    },
    {
      "cell_type": "code",
      "metadata": {
        "id": "9zgfOI0nkr8i",
        "colab_type": "code",
        "colab": {
          "base_uri": "https://localhost:8080/",
          "height": 34
        },
        "outputId": "3bd67cc7-82e4-434b-f45f-d1302fe6b65a"
      },
      "source": [
        "param_grid = {'kernel': ['linear', 'poly', 'rbf', 'sigmoid'],\n",
        "              'C': [0.001, 0.01, 1, 10, 100] }\n",
        "\n",
        "search = GridSearchCV(SVC(), param_grid, scoring='recall', cv=kfold)\n",
        "result = search.fit(X_train_rus, y_train_rus)\n",
        "\n",
        "print(f'Best recall: {result.best_score_} for {result.best_params_}')"
      ],
      "execution_count": 276,
      "outputs": [
        {
          "output_type": "stream",
          "text": [
            "Best recall: 0.9404441172862226 for {'C': 0.01, 'kernel': 'poly'}\n"
          ],
          "name": "stdout"
        }
      ]
    },
    {
      "cell_type": "code",
      "metadata": {
        "id": "p_t_RGJnqhBo",
        "colab_type": "code",
        "colab": {
          "base_uri": "https://localhost:8080/",
          "height": 176
        },
        "outputId": "669393d8-d3ed-4b65-ae95-e704134d4998"
      },
      "source": [
        "model_svm = SVC(kernel='poly', C=0.01)\n",
        "model_svm.fit(X_train_rus, y_train_rus)\n",
        "y_pred_svm = model_svm.predict(X_test)\n",
        "\n",
        "print(classification_report(y_test, y_pred_svm))"
      ],
      "execution_count": 277,
      "outputs": [
        {
          "output_type": "stream",
          "text": [
            "              precision    recall  f1-score   support\n",
            "\n",
            "           0       0.93      0.38      0.54      1319\n",
            "           1       0.33      0.91      0.48       442\n",
            "\n",
            "    accuracy                           0.51      1761\n",
            "   macro avg       0.63      0.64      0.51      1761\n",
            "weighted avg       0.78      0.51      0.52      1761\n",
            "\n"
          ],
          "name": "stdout"
        }
      ]
    }
  ]
}